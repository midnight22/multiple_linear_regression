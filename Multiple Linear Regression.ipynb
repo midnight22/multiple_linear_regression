{
 "cells": [
  {
   "cell_type": "markdown",
   "metadata": {},
   "source": [
    "# Multiple Linear Regression on Salary Data. "
   ]
  },
  {
   "cell_type": "code",
   "execution_count": null,
   "metadata": {},
   "outputs": [],
   "source": []
  },
  {
   "cell_type": "code",
   "execution_count": 1,
   "metadata": {},
   "outputs": [],
   "source": [
    "import matplotlib.pyplot as plt\n",
    "import seaborn as sns\n",
    "%matplotlib inline\n",
    "import pandas as pd\n",
    "import numpy as np\n",
    "from scipy import stats\n",
    "import statsmodels.api as sm\n",
    "import statsmodels.formula.api as smf\n",
    "from sklearn import datasets, linear_model\n",
    "from sklearn.linear_model import LinearRegression\n",
    "from sklearn.model_selection import train_test_split\n",
    "from sklearn.metrics import mean_squared_error\n",
    "from pylab import*\n",
    "import plotly as py\n",
    "import plotly.graph_objs as go\n",
    "from plotly.offline import download_plotlyjs, init_notebook_mode, plot, iplot\n",
    "#from plotly.graph_objs import FigureWidget\n",
    "#import cufflinks as cf  \n",
    "#cf.go_offline() \n",
    "import ipywidgets as widgets"
   ]
  },
  {
   "cell_type": "code",
   "execution_count": null,
   "metadata": {},
   "outputs": [],
   "source": []
  },
  {
   "cell_type": "markdown",
   "metadata": {},
   "source": [
    "* The salary metadata data is imported below using the pandas pd.read_csv function along with the \"sep='\\t'\" method to allow us to be able to read the csv file."
   ]
  },
  {
   "cell_type": "code",
   "execution_count": 2,
   "metadata": {},
   "outputs": [],
   "source": [
    "metadata = pd.read_csv(\"Salary_metadata.csv\", sep='\\t')"
   ]
  },
  {
   "cell_type": "code",
   "execution_count": 3,
   "metadata": {},
   "outputs": [
    {
     "data": {
      "text/html": [
       "<div>\n",
       "<style scoped>\n",
       "    .dataframe tbody tr th:only-of-type {\n",
       "        vertical-align: middle;\n",
       "    }\n",
       "\n",
       "    .dataframe tbody tr th {\n",
       "        vertical-align: top;\n",
       "    }\n",
       "\n",
       "    .dataframe thead th {\n",
       "        text-align: right;\n",
       "    }\n",
       "</style>\n",
       "<table border=\"1\" class=\"dataframe\">\n",
       "  <thead>\n",
       "    <tr style=\"text-align: right;\">\n",
       "      <th></th>\n",
       "      <th>Variable;Type;Explanation</th>\n",
       "    </tr>\n",
       "  </thead>\n",
       "  <tbody>\n",
       "    <tr>\n",
       "      <th>0</th>\n",
       "      <td>salary;Continuous;Annual salary in dollars</td>\n",
       "    </tr>\n",
       "    <tr>\n",
       "      <th>1</th>\n",
       "      <td>exprior;Continuous;Years of experience prior t...</td>\n",
       "    </tr>\n",
       "    <tr>\n",
       "      <th>2</th>\n",
       "      <td>yearsworked;Continuous;Years worked in this field</td>\n",
       "    </tr>\n",
       "    <tr>\n",
       "      <th>3</th>\n",
       "      <td>yearsrank;Continuous;Years worked at current r...</td>\n",
       "    </tr>\n",
       "    <tr>\n",
       "      <th>4</th>\n",
       "      <td>market;Continuous;Market value (1 = salary at ...</td>\n",
       "    </tr>\n",
       "    <tr>\n",
       "      <th>5</th>\n",
       "      <td>degree;Binary;Has degree (0 = no, 1 = yes)</td>\n",
       "    </tr>\n",
       "    <tr>\n",
       "      <th>6</th>\n",
       "      <td>otherqual;Binary;Has other post-secondary qual...</td>\n",
       "    </tr>\n",
       "    <tr>\n",
       "      <th>7</th>\n",
       "      <td>position;Categorical;Position (1 = Junior Empl...</td>\n",
       "    </tr>\n",
       "    <tr>\n",
       "      <th>8</th>\n",
       "      <td>male;Binary;0 = no, 1 = yes</td>\n",
       "    </tr>\n",
       "    <tr>\n",
       "      <th>9</th>\n",
       "      <td>Field;Categorical;Field of work (1 = Engineeri...</td>\n",
       "    </tr>\n",
       "    <tr>\n",
       "      <th>10</th>\n",
       "      <td>yearsabs;Continuous;Years absent from work (e....</td>\n",
       "    </tr>\n",
       "  </tbody>\n",
       "</table>\n",
       "</div>"
      ],
      "text/plain": [
       "                            Variable;Type;Explanation\n",
       "0          salary;Continuous;Annual salary in dollars\n",
       "1   exprior;Continuous;Years of experience prior t...\n",
       "2   yearsworked;Continuous;Years worked in this field\n",
       "3   yearsrank;Continuous;Years worked at current r...\n",
       "4   market;Continuous;Market value (1 = salary at ...\n",
       "5          degree;Binary;Has degree (0 = no, 1 = yes)\n",
       "6   otherqual;Binary;Has other post-secondary qual...\n",
       "7   position;Categorical;Position (1 = Junior Empl...\n",
       "8                         male;Binary;0 = no, 1 = yes\n",
       "9   Field;Categorical;Field of work (1 = Engineeri...\n",
       "10  yearsabs;Continuous;Years absent from work (e...."
      ]
     },
     "execution_count": 3,
     "metadata": {},
     "output_type": "execute_result"
    }
   ],
   "source": [
    "metadata"
   ]
  },
  {
   "cell_type": "markdown",
   "metadata": {},
   "source": [
    "* Import salary.csv as data using pd.read_csv method."
   ]
  },
  {
   "cell_type": "code",
   "execution_count": 4,
   "metadata": {},
   "outputs": [],
   "source": [
    "dataframe = pd.read_csv(\"salary.csv\")"
   ]
  },
  {
   "cell_type": "markdown",
   "metadata": {},
   "source": [
    "* We use the .isnull().values.any() method to check if there are any NaN values within the salary DataFrame."
   ]
  },
  {
   "cell_type": "code",
   "execution_count": 5,
   "metadata": {},
   "outputs": [
    {
     "data": {
      "text/plain": [
       "True"
      ]
     },
     "execution_count": 5,
     "metadata": {},
     "output_type": "execute_result"
    }
   ],
   "source": [
    "dataframe.isnull().values.any()"
   ]
  },
  {
   "cell_type": "code",
   "execution_count": 6,
   "metadata": {},
   "outputs": [],
   "source": [
    "#Use .dropna() to drop all nan values.\n",
    "df = pd.read_csv(\"salary.csv\").dropna()"
   ]
  },
  {
   "cell_type": "code",
   "execution_count": 7,
   "metadata": {},
   "outputs": [
    {
     "data": {
      "text/html": [
       "<div>\n",
       "<style scoped>\n",
       "    .dataframe tbody tr th:only-of-type {\n",
       "        vertical-align: middle;\n",
       "    }\n",
       "\n",
       "    .dataframe tbody tr th {\n",
       "        vertical-align: top;\n",
       "    }\n",
       "\n",
       "    .dataframe thead th {\n",
       "        text-align: right;\n",
       "    }\n",
       "</style>\n",
       "<table border=\"1\" class=\"dataframe\">\n",
       "  <thead>\n",
       "    <tr style=\"text-align: right;\">\n",
       "      <th></th>\n",
       "      <th>salary</th>\n",
       "      <th>exprior</th>\n",
       "      <th>yearsworked</th>\n",
       "      <th>yearsrank</th>\n",
       "      <th>market</th>\n",
       "      <th>degree</th>\n",
       "      <th>otherqual</th>\n",
       "      <th>position</th>\n",
       "      <th>male</th>\n",
       "      <th>Field</th>\n",
       "      <th>yearsabs</th>\n",
       "    </tr>\n",
       "  </thead>\n",
       "  <tbody>\n",
       "    <tr>\n",
       "      <th>0</th>\n",
       "      <td>53000.0</td>\n",
       "      <td>0</td>\n",
       "      <td>0</td>\n",
       "      <td>0</td>\n",
       "      <td>1.17</td>\n",
       "      <td>1</td>\n",
       "      <td>0</td>\n",
       "      <td>1</td>\n",
       "      <td>1</td>\n",
       "      <td>3</td>\n",
       "      <td>0</td>\n",
       "    </tr>\n",
       "    <tr>\n",
       "      <th>1</th>\n",
       "      <td>58000.0</td>\n",
       "      <td>1</td>\n",
       "      <td>0</td>\n",
       "      <td>0</td>\n",
       "      <td>1.24</td>\n",
       "      <td>1</td>\n",
       "      <td>0</td>\n",
       "      <td>1</td>\n",
       "      <td>1</td>\n",
       "      <td>2</td>\n",
       "      <td>0</td>\n",
       "    </tr>\n",
       "    <tr>\n",
       "      <th>2</th>\n",
       "      <td>45500.0</td>\n",
       "      <td>0</td>\n",
       "      <td>0</td>\n",
       "      <td>0</td>\n",
       "      <td>1.21</td>\n",
       "      <td>1</td>\n",
       "      <td>0</td>\n",
       "      <td>1</td>\n",
       "      <td>1</td>\n",
       "      <td>3</td>\n",
       "      <td>2</td>\n",
       "    </tr>\n",
       "    <tr>\n",
       "      <th>3</th>\n",
       "      <td>35782.0</td>\n",
       "      <td>0</td>\n",
       "      <td>2</td>\n",
       "      <td>1</td>\n",
       "      <td>0.99</td>\n",
       "      <td>1</td>\n",
       "      <td>0</td>\n",
       "      <td>1</td>\n",
       "      <td>1</td>\n",
       "      <td>4</td>\n",
       "      <td>1</td>\n",
       "    </tr>\n",
       "    <tr>\n",
       "      <th>4</th>\n",
       "      <td>34731.0</td>\n",
       "      <td>0</td>\n",
       "      <td>2</td>\n",
       "      <td>2</td>\n",
       "      <td>0.91</td>\n",
       "      <td>1</td>\n",
       "      <td>0</td>\n",
       "      <td>1</td>\n",
       "      <td>1</td>\n",
       "      <td>4</td>\n",
       "      <td>1</td>\n",
       "    </tr>\n",
       "  </tbody>\n",
       "</table>\n",
       "</div>"
      ],
      "text/plain": [
       "    salary  exprior  yearsworked  yearsrank  market  degree  otherqual  \\\n",
       "0  53000.0        0            0          0    1.17       1          0   \n",
       "1  58000.0        1            0          0    1.24       1          0   \n",
       "2  45500.0        0            0          0    1.21       1          0   \n",
       "3  35782.0        0            2          1    0.99       1          0   \n",
       "4  34731.0        0            2          2    0.91       1          0   \n",
       "\n",
       "   position  male  Field  yearsabs  \n",
       "0         1     1      3         0  \n",
       "1         1     1      2         0  \n",
       "2         1     1      3         2  \n",
       "3         1     1      4         1  \n",
       "4         1     1      4         1  "
      ]
     },
     "execution_count": 7,
     "metadata": {},
     "output_type": "execute_result"
    }
   ],
   "source": [
    "#Check the data using the .head() method.\n",
    "df.head()"
   ]
  },
  {
   "cell_type": "code",
   "execution_count": null,
   "metadata": {},
   "outputs": [],
   "source": []
  },
  {
   "cell_type": "markdown",
   "metadata": {},
   "source": [
    "# Split your data into a training and test set. "
   ]
  },
  {
   "cell_type": "markdown",
   "metadata": {},
   "source": [
    "* We will need to first split up our data into an X_array that contains the features to train on, and a y_array with the target variable, in this case the Salary column."
   ]
  },
  {
   "cell_type": "code",
   "execution_count": 8,
   "metadata": {},
   "outputs": [],
   "source": [
    "y = df['salary']\n",
    "X = df[['exprior','yearsworked', 'yearsrank', 'market', 'degree', 'otherqual', 'position', 'male', 'Field', 'yearsabs']]"
   ]
  },
  {
   "cell_type": "markdown",
   "metadata": {},
   "source": [
    "* We will need to first split up our data into an X_array that contains the features to train on, and a y_array with the target variable, in this case the Salary column."
   ]
  },
  {
   "cell_type": "markdown",
   "metadata": {},
   "source": [
    "* Below we use the train_test_split() fucntion to split the data, we will pass the variable X and y obtained above, along with test_size=0.20 which is used to indicate that the test data should be 20% of the total data and rest 80% should be train data with a random_state of 42."
   ]
  },
  {
   "cell_type": "code",
   "execution_count": 9,
   "metadata": {},
   "outputs": [],
   "source": [
    "X_train, X_test, y_train, y_test = train_test_split(df, y, test_size=0.20, random_state=42)"
   ]
  },
  {
   "cell_type": "code",
   "execution_count": 10,
   "metadata": {},
   "outputs": [
    {
     "name": "stdout",
     "output_type": "stream",
     "text": [
      "X_train:\n"
     ]
    },
    {
     "data": {
      "text/html": [
       "<div>\n",
       "<style scoped>\n",
       "    .dataframe tbody tr th:only-of-type {\n",
       "        vertical-align: middle;\n",
       "    }\n",
       "\n",
       "    .dataframe tbody tr th {\n",
       "        vertical-align: top;\n",
       "    }\n",
       "\n",
       "    .dataframe thead th {\n",
       "        text-align: right;\n",
       "    }\n",
       "</style>\n",
       "<table border=\"1\" class=\"dataframe\">\n",
       "  <thead>\n",
       "    <tr style=\"text-align: right;\">\n",
       "      <th></th>\n",
       "      <th>salary</th>\n",
       "      <th>exprior</th>\n",
       "      <th>yearsworked</th>\n",
       "      <th>yearsrank</th>\n",
       "      <th>market</th>\n",
       "      <th>degree</th>\n",
       "      <th>otherqual</th>\n",
       "      <th>position</th>\n",
       "      <th>male</th>\n",
       "      <th>Field</th>\n",
       "      <th>yearsabs</th>\n",
       "    </tr>\n",
       "  </thead>\n",
       "  <tbody>\n",
       "    <tr>\n",
       "      <th>321</th>\n",
       "      <td>55608.00000</td>\n",
       "      <td>1</td>\n",
       "      <td>25</td>\n",
       "      <td>21</td>\n",
       "      <td>0.96</td>\n",
       "      <td>1</td>\n",
       "      <td>0</td>\n",
       "      <td>2</td>\n",
       "      <td>1</td>\n",
       "      <td>4</td>\n",
       "      <td>0</td>\n",
       "    </tr>\n",
       "    <tr>\n",
       "      <th>330</th>\n",
       "      <td>48327.00000</td>\n",
       "      <td>25</td>\n",
       "      <td>2</td>\n",
       "      <td>2</td>\n",
       "      <td>0.78</td>\n",
       "      <td>1</td>\n",
       "      <td>0</td>\n",
       "      <td>2</td>\n",
       "      <td>1</td>\n",
       "      <td>4</td>\n",
       "      <td>1</td>\n",
       "    </tr>\n",
       "    <tr>\n",
       "      <th>173</th>\n",
       "      <td>61453.00000</td>\n",
       "      <td>0</td>\n",
       "      <td>15</td>\n",
       "      <td>0</td>\n",
       "      <td>1.21</td>\n",
       "      <td>1</td>\n",
       "      <td>0</td>\n",
       "      <td>2</td>\n",
       "      <td>1</td>\n",
       "      <td>1</td>\n",
       "      <td>0</td>\n",
       "    </tr>\n",
       "    <tr>\n",
       "      <th>273</th>\n",
       "      <td>65432.00000</td>\n",
       "      <td>0</td>\n",
       "      <td>23</td>\n",
       "      <td>12</td>\n",
       "      <td>0.99</td>\n",
       "      <td>1</td>\n",
       "      <td>0</td>\n",
       "      <td>3</td>\n",
       "      <td>1</td>\n",
       "      <td>1</td>\n",
       "      <td>1</td>\n",
       "    </tr>\n",
       "    <tr>\n",
       "      <th>493</th>\n",
       "      <td>44410.85547</td>\n",
       "      <td>7</td>\n",
       "      <td>12</td>\n",
       "      <td>10</td>\n",
       "      <td>0.72</td>\n",
       "      <td>1</td>\n",
       "      <td>0</td>\n",
       "      <td>2</td>\n",
       "      <td>0</td>\n",
       "      <td>3</td>\n",
       "      <td>51</td>\n",
       "    </tr>\n",
       "  </tbody>\n",
       "</table>\n",
       "</div>"
      ],
      "text/plain": [
       "          salary  exprior  yearsworked  yearsrank  market  degree  otherqual  \\\n",
       "321  55608.00000        1           25         21    0.96       1          0   \n",
       "330  48327.00000       25            2          2    0.78       1          0   \n",
       "173  61453.00000        0           15          0    1.21       1          0   \n",
       "273  65432.00000        0           23         12    0.99       1          0   \n",
       "493  44410.85547        7           12         10    0.72       1          0   \n",
       "\n",
       "     position  male  Field  yearsabs  \n",
       "321         2     1      4         0  \n",
       "330         2     1      4         1  \n",
       "173         2     1      1         0  \n",
       "273         3     1      1         1  \n",
       "493         2     0      3        51  "
      ]
     },
     "execution_count": 10,
     "metadata": {},
     "output_type": "execute_result"
    }
   ],
   "source": [
    "print(\"X_train:\")\n",
    "X_train.head()\n"
   ]
  },
  {
   "cell_type": "code",
   "execution_count": 11,
   "metadata": {},
   "outputs": [
    {
     "name": "stdout",
     "output_type": "stream",
     "text": [
      "X_test:\n"
     ]
    },
    {
     "data": {
      "text/html": [
       "<div>\n",
       "<style scoped>\n",
       "    .dataframe tbody tr th:only-of-type {\n",
       "        vertical-align: middle;\n",
       "    }\n",
       "\n",
       "    .dataframe tbody tr th {\n",
       "        vertical-align: top;\n",
       "    }\n",
       "\n",
       "    .dataframe thead th {\n",
       "        text-align: right;\n",
       "    }\n",
       "</style>\n",
       "<table border=\"1\" class=\"dataframe\">\n",
       "  <thead>\n",
       "    <tr style=\"text-align: right;\">\n",
       "      <th></th>\n",
       "      <th>salary</th>\n",
       "      <th>exprior</th>\n",
       "      <th>yearsworked</th>\n",
       "      <th>yearsrank</th>\n",
       "      <th>market</th>\n",
       "      <th>degree</th>\n",
       "      <th>otherqual</th>\n",
       "      <th>position</th>\n",
       "      <th>male</th>\n",
       "      <th>Field</th>\n",
       "      <th>yearsabs</th>\n",
       "    </tr>\n",
       "  </thead>\n",
       "  <tbody>\n",
       "    <tr>\n",
       "      <th>305</th>\n",
       "      <td>48456.0</td>\n",
       "      <td>1</td>\n",
       "      <td>24</td>\n",
       "      <td>16</td>\n",
       "      <td>0.85</td>\n",
       "      <td>1</td>\n",
       "      <td>0</td>\n",
       "      <td>2</td>\n",
       "      <td>1</td>\n",
       "      <td>4</td>\n",
       "      <td>0</td>\n",
       "    </tr>\n",
       "    <tr>\n",
       "      <th>497</th>\n",
       "      <td>48681.0</td>\n",
       "      <td>0</td>\n",
       "      <td>19</td>\n",
       "      <td>12</td>\n",
       "      <td>1.05</td>\n",
       "      <td>1</td>\n",
       "      <td>0</td>\n",
       "      <td>2</td>\n",
       "      <td>0</td>\n",
       "      <td>4</td>\n",
       "      <td>52</td>\n",
       "    </tr>\n",
       "    <tr>\n",
       "      <th>440</th>\n",
       "      <td>41915.0</td>\n",
       "      <td>0</td>\n",
       "      <td>10</td>\n",
       "      <td>4</td>\n",
       "      <td>0.82</td>\n",
       "      <td>1</td>\n",
       "      <td>0</td>\n",
       "      <td>2</td>\n",
       "      <td>0</td>\n",
       "      <td>4</td>\n",
       "      <td>1</td>\n",
       "    </tr>\n",
       "    <tr>\n",
       "      <th>153</th>\n",
       "      <td>42954.0</td>\n",
       "      <td>6</td>\n",
       "      <td>9</td>\n",
       "      <td>0</td>\n",
       "      <td>0.92</td>\n",
       "      <td>1</td>\n",
       "      <td>0</td>\n",
       "      <td>3</td>\n",
       "      <td>1</td>\n",
       "      <td>3</td>\n",
       "      <td>1</td>\n",
       "    </tr>\n",
       "    <tr>\n",
       "      <th>499</th>\n",
       "      <td>45669.0</td>\n",
       "      <td>2</td>\n",
       "      <td>18</td>\n",
       "      <td>5</td>\n",
       "      <td>0.73</td>\n",
       "      <td>1</td>\n",
       "      <td>0</td>\n",
       "      <td>2</td>\n",
       "      <td>0</td>\n",
       "      <td>3</td>\n",
       "      <td>56</td>\n",
       "    </tr>\n",
       "  </tbody>\n",
       "</table>\n",
       "</div>"
      ],
      "text/plain": [
       "      salary  exprior  yearsworked  yearsrank  market  degree  otherqual  \\\n",
       "305  48456.0        1           24         16    0.85       1          0   \n",
       "497  48681.0        0           19         12    1.05       1          0   \n",
       "440  41915.0        0           10          4    0.82       1          0   \n",
       "153  42954.0        6            9          0    0.92       1          0   \n",
       "499  45669.0        2           18          5    0.73       1          0   \n",
       "\n",
       "     position  male  Field  yearsabs  \n",
       "305         2     1      4         0  \n",
       "497         2     0      4        52  \n",
       "440         2     0      4         1  \n",
       "153         3     1      3         1  \n",
       "499         2     0      3        56  "
      ]
     },
     "execution_count": 11,
     "metadata": {},
     "output_type": "execute_result"
    }
   ],
   "source": [
    "print(\"X_test:\")\n",
    "\n",
    "X_test.head()"
   ]
  },
  {
   "cell_type": "code",
   "execution_count": 12,
   "metadata": {},
   "outputs": [
    {
     "name": "stdout",
     "output_type": "stream",
     "text": [
      "(410, 11)\n",
      "(103, 11)\n"
     ]
    }
   ],
   "source": [
    "print(X_train.shape)\n",
    "print(X_test.shape)"
   ]
  },
  {
   "cell_type": "markdown",
   "metadata": {},
   "source": [
    "* Create multiple linear regression object [mlm]."
   ]
  },
  {
   "cell_type": "code",
   "execution_count": 13,
   "metadata": {},
   "outputs": [],
   "source": [
    "mlm = linear_model.LinearRegression()"
   ]
  },
  {
   "cell_type": "markdown",
   "metadata": {},
   "source": [
    "*  Train the multiple linear model using the training sets X_train and y_train."
   ]
  },
  {
   "cell_type": "code",
   "execution_count": 14,
   "metadata": {},
   "outputs": [
    {
     "data": {
      "text/plain": [
       "LinearRegression(copy_X=True, fit_intercept=True, n_jobs=None, normalize=False)"
      ]
     },
     "execution_count": 14,
     "metadata": {},
     "output_type": "execute_result"
    }
   ],
   "source": [
    "mlm.fit(X_train, y_train)"
   ]
  },
  {
   "cell_type": "code",
   "execution_count": 15,
   "metadata": {},
   "outputs": [
    {
     "name": "stdout",
     "output_type": "stream",
     "text": [
      "-1.4551915228366852e-11\n",
      "[ 1.00000000e+00 -2.60878222e-14  4.87242261e-15  3.27717444e-14\n",
      " -1.90047170e-12 -8.77879292e-13  3.45075783e-13 -4.58673343e-13\n",
      " -1.36119262e-13 -2.17519165e-13  2.34614076e-16]\n"
     ]
    }
   ],
   "source": [
    "# print the coefficients\n",
    "print (mlm.intercept_)\n",
    "print (mlm.coef_)"
   ]
  },
  {
   "cell_type": "code",
   "execution_count": null,
   "metadata": {},
   "outputs": [],
   "source": []
  },
  {
   "cell_type": "code",
   "execution_count": 16,
   "metadata": {},
   "outputs": [],
   "source": [
    "# Predicting the Test set results\n",
    "\n",
    "Y_Pred = mlm.predict(X_test)"
   ]
  },
  {
   "cell_type": "code",
   "execution_count": 165,
   "metadata": {},
   "outputs": [],
   "source": [
    "\n",
    "# explore\n",
    "featured_cols = ['degree', 'position', 'Field', 'male']"
   ]
  },
  {
   "cell_type": "code",
   "execution_count": 171,
   "metadata": {},
   "outputs": [
    {
     "data": {
      "text/plain": [
       "<seaborn.axisgrid.PairGrid at 0x7f6a91df0780>"
      ]
     },
     "execution_count": 171,
     "metadata": {},
     "output_type": "execute_result"
    },
    {
     "data": {
      "image/png": "[encoded data removed]",
      "text/plain": [
       "<Figure size 864x216 with 4 Axes>"
      ]
     },
     "metadata": {
      "needs_background": "light"
     },
     "output_type": "display_data"
    }
   ],
   "source": [
    "# multiple scatter plots in Seaborn\n",
    "sns.pairplot(X_train, x_vars=featured_cols, y_vars='salary', kind='reg',height=3)"
   ]
  },
  {
   "cell_type": "code",
   "execution_count": null,
   "metadata": {},
   "outputs": [],
   "source": [
    "# manually calculate the prediction\n",
    "mlm.intercept_ + mlm.coef_*40"
   ]
  },
  {
   "cell_type": "code",
   "execution_count": null,
   "metadata": {},
   "outputs": [],
   "source": []
  },
  {
   "cell_type": "code",
   "execution_count": null,
   "metadata": {},
   "outputs": [],
   "source": []
  },
  {
   "cell_type": "code",
   "execution_count": null,
   "metadata": {},
   "outputs": [],
   "source": [
    "#mlm.ols.summary()"
   ]
  },
  {
   "cell_type": "code",
   "execution_count": null,
   "metadata": {},
   "outputs": [],
   "source": [
    "#X_train.iplot(kind='scatter', x=['yearsrank', 'yearsworked'], y='salary',mode='markers',marker=dict(color='black'))"
   ]
  },
  {
   "cell_type": "code",
   "execution_count": 175,
   "metadata": {},
   "outputs": [
    {
     "data": {
      "image/png": "[encoded data removed]",
      "text/plain": [
       "<Figure size 432x288 with 1 Axes>"
      ]
     },
     "metadata": {},
     "output_type": "display_data"
    }
   ],
   "source": [
    "sns.set(color_codes=True)\n",
    "sns.regplot(x=\"yearsworked\", y=\"salary\", color = \"red\", data=X_train);"
   ]
  },
  {
   "cell_type": "code",
   "execution_count": 176,
   "metadata": {},
   "outputs": [
    {
     "data": {
      "text/plain": [
       "<matplotlib.axes._subplots.AxesSubplot at 0x7f6a87579c88>"
      ]
     },
     "execution_count": 176,
     "metadata": {},
     "output_type": "execute_result"
    },
    {
     "data": {
      "image/png": "[encoded data removed]",
      "text/plain": [
       "<Figure size 432x288 with 1 Axes>"
      ]
     },
     "metadata": {},
     "output_type": "display_data"
    }
   ],
   "source": [
    "\n",
    "# Seaborn scatter plot with regression line\n",
    "sns.regplot(x='yearsrank', y='salary', data=X_train, color=\"purple\", scatter_kws={'alpha':0.5})"
   ]
  },
  {
   "cell_type": "code",
   "execution_count": null,
   "metadata": {},
   "outputs": [],
   "source": []
  },
  {
   "cell_type": "code",
   "execution_count": null,
   "metadata": {},
   "outputs": [],
   "source": []
  },
  {
   "cell_type": "code",
   "execution_count": null,
   "metadata": {},
   "outputs": [],
   "source": [
    "\n",
    "# The mean squared error\n",
    "print(\"Mean squared error: %.2f\"\n",
    "      % np.mean((mlm.predict(X_test) - y_test) ** 2))\n",
    "# Explained variance score: 1 is perfect prediction\n",
    "print('Variance score: %.2f' % regr.score(X_test, y_test))"
   ]
  },
  {
   "cell_type": "code",
   "execution_count": null,
   "metadata": {},
   "outputs": [],
   "source": []
  },
  {
   "cell_type": "code",
   "execution_count": null,
   "metadata": {},
   "outputs": [],
   "source": []
  },
  {
   "cell_type": "code",
   "execution_count": null,
   "metadata": {},
   "outputs": [],
   "source": []
  },
  {
   "cell_type": "code",
   "execution_count": null,
   "metadata": {},
   "outputs": [],
   "source": []
  },
  {
   "cell_type": "code",
   "execution_count": 214,
   "metadata": {},
   "outputs": [
    {
     "name": "stderr",
     "output_type": "stream",
     "text": [
      "'c' argument looks like a single numeric RGB or RGBA sequence, which should be avoided as value-mapping will have precedence in case its length matches with 'x' & 'y'.  Please use a 2-D array with a single row if you really want to specify the same RGB or RGBA value for all points.\n"
     ]
    },
    {
     "data": {
      "text/plain": [
       "<matplotlib.axes._subplots.AxesSubplot at 0x7f6a87785358>"
      ]
     },
     "execution_count": 214,
     "metadata": {},
     "output_type": "execute_result"
    },
    {
     "data": {
      "image/png": "[encoded data removed]",
      "text/plain": [
       "<Figure size 432x288 with 1 Axes>"
      ]
     },
     "metadata": {},
     "output_type": "display_data"
    }
   ],
   "source": [
    "X_train.plot(kind='scatter', x='male', y='salary', alpha=0.5)"
   ]
  },
  {
   "cell_type": "code",
   "execution_count": 42,
   "metadata": {},
   "outputs": [
    {
     "data": {
      "image/png": "[encoded data removed]",
      "text/plain": [
       "<Figure size 432x288 with 1 Axes>"
      ]
     },
     "metadata": {
      "needs_background": "light"
     },
     "output_type": "display_data"
    },
    {
     "data": {
      "image/png": "[encoded data removed]",
      "text/plain": [
       "<Figure size 432x288 with 1 Axes>"
      ]
     },
     "metadata": {
      "needs_background": "light"
     },
     "output_type": "display_data"
    }
   ],
   "source": [
    "\n",
    "df[\"yearsworked\"].hist(color=\"b\", bins=20, alpha=1.0)\n",
    "plt.xlabel(\"Years_worked\")\n",
    "plt.ylabel(\"No. of employees\")\n",
    "plt.show()\n",
    "\n",
    "df[\"yearsrank\"].hist(color=\"r\", bins=20, alpha=1.0)\n",
    "plt.xlabel(\"years_rank\")\n",
    "plt.ylabel(\"No. of employees\")\n",
    "\n",
    "plt.show()"
   ]
  },
  {
   "cell_type": "code",
   "execution_count": 200,
   "metadata": {},
   "outputs": [
    {
     "data": {
      "text/plain": [
       "Text(0, 0.5, 'No. of employees')"
      ]
     },
     "execution_count": 200,
     "metadata": {},
     "output_type": "execute_result"
    },
    {
     "data": {
      "image/png": "[encoded data removed]",
      "text/plain": [
       "<Figure size 432x288 with 2 Axes>"
      ]
     },
     "metadata": {},
     "output_type": "display_data"
    }
   ],
   "source": [
    "subplot(1,2,1)\n",
    "plt.scatter(X_train['market'], X_train['salary'], c='y')\n",
    "plt.title(\"Salary vs Market\")\n",
    "plt.xlabel(\"Market\")\n",
    "plt.ylabel(\"Salary\")\n",
    "\n",
    "subplot(1,2,2)\n",
    "plt.hist(X_train['position'],data=X_train, bins=20)\n",
    "plt.title(\"Position\")\n",
    "plt.xlabel(\"Various Positions\")\n",
    "plt.ylabel(\"No. of employees\")\n"
   ]
  },
  {
   "cell_type": "code",
   "execution_count": null,
   "metadata": {},
   "outputs": [],
   "source": []
  },
  {
   "cell_type": "code",
   "execution_count": null,
   "metadata": {},
   "outputs": [],
   "source": []
  },
  {
   "cell_type": "markdown",
   "metadata": {},
   "source": [
    "### 2.One-hot encode the variable Field into three dummy variables, using HR as the reference category. You can use pandas' get_dummies() function for this."
   ]
  },
  {
   "cell_type": "code",
   "execution_count": 220,
   "metadata": {},
   "outputs": [],
   "source": [
    "#Replace 1,2,3,4 with (' Engineering', 'Finance', 'Human Resources', 'Marketing')\n",
    "df['Field'] = df['Field'].replace([1,2,3,4],[' Engineering', 'Finance', 'Human Resources', 'Marketing'])"
   ]
  },
  {
   "cell_type": "code",
   "execution_count": 221,
   "metadata": {},
   "outputs": [],
   "source": [
    "HR = pd.get_dummies(df[\"Field\"])"
   ]
  },
  {
   "cell_type": "code",
   "execution_count": 222,
   "metadata": {},
   "outputs": [
    {
     "data": {
      "text/html": [
       "<div>\n",
       "<style scoped>\n",
       "    .dataframe tbody tr th:only-of-type {\n",
       "        vertical-align: middle;\n",
       "    }\n",
       "\n",
       "    .dataframe tbody tr th {\n",
       "        vertical-align: top;\n",
       "    }\n",
       "\n",
       "    .dataframe thead th {\n",
       "        text-align: right;\n",
       "    }\n",
       "</style>\n",
       "<table border=\"1\" class=\"dataframe\">\n",
       "  <thead>\n",
       "    <tr style=\"text-align: right;\">\n",
       "      <th></th>\n",
       "      <th>Engineering</th>\n",
       "      <th>Finance</th>\n",
       "      <th>Human Resources</th>\n",
       "      <th>Marketing</th>\n",
       "    </tr>\n",
       "  </thead>\n",
       "  <tbody>\n",
       "    <tr>\n",
       "      <th>0</th>\n",
       "      <td>0</td>\n",
       "      <td>0</td>\n",
       "      <td>1</td>\n",
       "      <td>0</td>\n",
       "    </tr>\n",
       "    <tr>\n",
       "      <th>1</th>\n",
       "      <td>0</td>\n",
       "      <td>1</td>\n",
       "      <td>0</td>\n",
       "      <td>0</td>\n",
       "    </tr>\n",
       "    <tr>\n",
       "      <th>2</th>\n",
       "      <td>0</td>\n",
       "      <td>0</td>\n",
       "      <td>1</td>\n",
       "      <td>0</td>\n",
       "    </tr>\n",
       "    <tr>\n",
       "      <th>3</th>\n",
       "      <td>0</td>\n",
       "      <td>0</td>\n",
       "      <td>0</td>\n",
       "      <td>1</td>\n",
       "    </tr>\n",
       "    <tr>\n",
       "      <th>4</th>\n",
       "      <td>0</td>\n",
       "      <td>0</td>\n",
       "      <td>0</td>\n",
       "      <td>1</td>\n",
       "    </tr>\n",
       "  </tbody>\n",
       "</table>\n",
       "</div>"
      ],
      "text/plain": [
       "    Engineering  Finance  Human Resources  Marketing\n",
       "0             0        0                1          0\n",
       "1             0        1                0          0\n",
       "2             0        0                1          0\n",
       "3             0        0                0          1\n",
       "4             0        0                0          1"
      ]
     },
     "execution_count": 222,
     "metadata": {},
     "output_type": "execute_result"
    }
   ],
   "source": [
    "HR.head()"
   ]
  },
  {
   "cell_type": "code",
   "execution_count": 229,
   "metadata": {},
   "outputs": [],
   "source": [
    "#X_train.plot(kind='scatter', x=\"Field\", y='salary', alpha=0.9)"
   ]
  },
  {
   "cell_type": "code",
   "execution_count": 190,
   "metadata": {},
   "outputs": [],
   "source": [
    "#Replace all 1 with 'Male' and 0 with 'Female'\n",
    "df['male'] = df['male'].replace([1,0],['Male','Female'])"
   ]
  },
  {
   "cell_type": "code",
   "execution_count": 191,
   "metadata": {},
   "outputs": [],
   "source": [
    "MF = pd.get_dummies(df[\"male\"])"
   ]
  },
  {
   "cell_type": "code",
   "execution_count": 192,
   "metadata": {},
   "outputs": [
    {
     "data": {
      "text/html": [
       "<div>\n",
       "<style scoped>\n",
       "    .dataframe tbody tr th:only-of-type {\n",
       "        vertical-align: middle;\n",
       "    }\n",
       "\n",
       "    .dataframe tbody tr th {\n",
       "        vertical-align: top;\n",
       "    }\n",
       "\n",
       "    .dataframe thead th {\n",
       "        text-align: right;\n",
       "    }\n",
       "</style>\n",
       "<table border=\"1\" class=\"dataframe\">\n",
       "  <thead>\n",
       "    <tr style=\"text-align: right;\">\n",
       "      <th></th>\n",
       "      <th>Female</th>\n",
       "      <th>Male</th>\n",
       "    </tr>\n",
       "  </thead>\n",
       "  <tbody>\n",
       "    <tr>\n",
       "      <th>0</th>\n",
       "      <td>0</td>\n",
       "      <td>1</td>\n",
       "    </tr>\n",
       "    <tr>\n",
       "      <th>1</th>\n",
       "      <td>0</td>\n",
       "      <td>1</td>\n",
       "    </tr>\n",
       "    <tr>\n",
       "      <th>2</th>\n",
       "      <td>0</td>\n",
       "      <td>1</td>\n",
       "    </tr>\n",
       "    <tr>\n",
       "      <th>3</th>\n",
       "      <td>0</td>\n",
       "      <td>1</td>\n",
       "    </tr>\n",
       "    <tr>\n",
       "      <th>4</th>\n",
       "      <td>0</td>\n",
       "      <td>1</td>\n",
       "    </tr>\n",
       "  </tbody>\n",
       "</table>\n",
       "</div>"
      ],
      "text/plain": [
       "   Female  Male\n",
       "0       0     1\n",
       "1       0     1\n",
       "2       0     1\n",
       "3       0     1\n",
       "4       0     1"
      ]
     },
     "execution_count": 192,
     "metadata": {},
     "output_type": "execute_result"
    }
   ],
   "source": [
    "MF.head()"
   ]
  },
  {
   "cell_type": "code",
   "execution_count": 193,
   "metadata": {},
   "outputs": [],
   "source": [
    "#Replace all 1 with 'Yes' and 0 with 'No'\n",
    "df['degree'] = df['degree'].replace([1,0],['Yes','No'])"
   ]
  },
  {
   "cell_type": "code",
   "execution_count": 194,
   "metadata": {},
   "outputs": [],
   "source": [
    "DG = pd.get_dummies(df[\"degree\"])"
   ]
  },
  {
   "cell_type": "code",
   "execution_count": 195,
   "metadata": {
    "slideshow": {
     "slide_type": "fragment"
    }
   },
   "outputs": [
    {
     "data": {
      "text/html": [
       "<div>\n",
       "<style scoped>\n",
       "    .dataframe tbody tr th:only-of-type {\n",
       "        vertical-align: middle;\n",
       "    }\n",
       "\n",
       "    .dataframe tbody tr th {\n",
       "        vertical-align: top;\n",
       "    }\n",
       "\n",
       "    .dataframe thead th {\n",
       "        text-align: right;\n",
       "    }\n",
       "</style>\n",
       "<table border=\"1\" class=\"dataframe\">\n",
       "  <thead>\n",
       "    <tr style=\"text-align: right;\">\n",
       "      <th></th>\n",
       "      <th>No</th>\n",
       "      <th>Yes</th>\n",
       "    </tr>\n",
       "  </thead>\n",
       "  <tbody>\n",
       "    <tr>\n",
       "      <th>0</th>\n",
       "      <td>0</td>\n",
       "      <td>1</td>\n",
       "    </tr>\n",
       "    <tr>\n",
       "      <th>1</th>\n",
       "      <td>0</td>\n",
       "      <td>1</td>\n",
       "    </tr>\n",
       "    <tr>\n",
       "      <th>2</th>\n",
       "      <td>0</td>\n",
       "      <td>1</td>\n",
       "    </tr>\n",
       "    <tr>\n",
       "      <th>3</th>\n",
       "      <td>0</td>\n",
       "      <td>1</td>\n",
       "    </tr>\n",
       "    <tr>\n",
       "      <th>4</th>\n",
       "      <td>0</td>\n",
       "      <td>1</td>\n",
       "    </tr>\n",
       "  </tbody>\n",
       "</table>\n",
       "</div>"
      ],
      "text/plain": [
       "   No  Yes\n",
       "0   0    1\n",
       "1   0    1\n",
       "2   0    1\n",
       "3   0    1\n",
       "4   0    1"
      ]
     },
     "execution_count": 195,
     "metadata": {},
     "output_type": "execute_result"
    }
   ],
   "source": [
    "DG.head()"
   ]
  },
  {
   "cell_type": "code",
   "execution_count": 196,
   "metadata": {},
   "outputs": [],
   "source": [
    "#Replace all 1 with 'Junior Employee', 2 with 'Manager' and 3 with 'Executive'.\n",
    "df['position'] = df['position'].replace([1, 2, 3],['junior employee','manager', 'Executive'])"
   ]
  },
  {
   "cell_type": "code",
   "execution_count": 197,
   "metadata": {},
   "outputs": [],
   "source": [
    "PS = pd.get_dummies(df[\"position\"])"
   ]
  },
  {
   "cell_type": "code",
   "execution_count": 198,
   "metadata": {},
   "outputs": [
    {
     "data": {
      "text/html": [
       "<div>\n",
       "<style scoped>\n",
       "    .dataframe tbody tr th:only-of-type {\n",
       "        vertical-align: middle;\n",
       "    }\n",
       "\n",
       "    .dataframe tbody tr th {\n",
       "        vertical-align: top;\n",
       "    }\n",
       "\n",
       "    .dataframe thead th {\n",
       "        text-align: right;\n",
       "    }\n",
       "</style>\n",
       "<table border=\"1\" class=\"dataframe\">\n",
       "  <thead>\n",
       "    <tr style=\"text-align: right;\">\n",
       "      <th></th>\n",
       "      <th>Executive</th>\n",
       "      <th>junior employee</th>\n",
       "      <th>manager</th>\n",
       "    </tr>\n",
       "  </thead>\n",
       "  <tbody>\n",
       "    <tr>\n",
       "      <th>0</th>\n",
       "      <td>0</td>\n",
       "      <td>1</td>\n",
       "      <td>0</td>\n",
       "    </tr>\n",
       "    <tr>\n",
       "      <th>1</th>\n",
       "      <td>0</td>\n",
       "      <td>1</td>\n",
       "      <td>0</td>\n",
       "    </tr>\n",
       "    <tr>\n",
       "      <th>2</th>\n",
       "      <td>0</td>\n",
       "      <td>1</td>\n",
       "      <td>0</td>\n",
       "    </tr>\n",
       "    <tr>\n",
       "      <th>3</th>\n",
       "      <td>0</td>\n",
       "      <td>1</td>\n",
       "      <td>0</td>\n",
       "    </tr>\n",
       "    <tr>\n",
       "      <th>4</th>\n",
       "      <td>0</td>\n",
       "      <td>1</td>\n",
       "      <td>0</td>\n",
       "    </tr>\n",
       "  </tbody>\n",
       "</table>\n",
       "</div>"
      ],
      "text/plain": [
       "   Executive  junior employee  manager\n",
       "0          0                1        0\n",
       "1          0                1        0\n",
       "2          0                1        0\n",
       "3          0                1        0\n",
       "4          0                1        0"
      ]
     },
     "execution_count": 198,
     "metadata": {},
     "output_type": "execute_result"
    }
   ],
   "source": [
    "PS.head()"
   ]
  },
  {
   "cell_type": "code",
   "execution_count": null,
   "metadata": {},
   "outputs": [],
   "source": []
  },
  {
   "cell_type": "code",
   "execution_count": 246,
   "metadata": {},
   "outputs": [],
   "source": [
    "hr = pd.concat([y, MF, PS, HR, DG], axis=1)"
   ]
  },
  {
   "cell_type": "code",
   "execution_count": 247,
   "metadata": {},
   "outputs": [
    {
     "data": {
      "image/png": "[encoded data removed]",
      "text/plain": [
       "<Figure size 432x288 with 12 Axes>"
      ]
     },
     "metadata": {},
     "output_type": "display_data"
    }
   ],
   "source": [
    "hr.hist(color='b', bins=10, alpha=1.0)\n",
    "#plt.xlabel(\"Salary\")\n",
    "#plt.ylabel(\"years_worked\")\n",
    "plt.show()"
   ]
  },
  {
   "cell_type": "code",
   "execution_count": 248,
   "metadata": {},
   "outputs": [
    {
     "data": {
      "text/html": [
       "<script>requirejs.config({paths: { 'plotly': ['https://cdn.plot.ly/plotly-latest.min']},});if(!window.Plotly) {{require(['plotly'],function(plotly) {window.Plotly=plotly;});}}</script>"
      ],
      "text/vnd.plotly.v1+html": [
       "<script>requirejs.config({paths: { 'plotly': ['https://cdn.plot.ly/plotly-latest.min']},});if(!window.Plotly) {{require(['plotly'],function(plotly) {window.Plotly=plotly;});}}</script>"
      ]
     },
     "metadata": {},
     "output_type": "display_data"
    },
    {
     "data": {
      "application/vnd.plotly.v1+json": {
       "data": [
        {
         "type": "histogram",
         "x": [
          0,
          1,
          0,
          1,
          51,
          0,
          0,
          1,
          0,
          1,
          0,
          27,
          2,
          0,
          0,
          0,
          1,
          25,
          0,
          1,
          0,
          2,
          0,
          58,
          1,
          0,
          3,
          47,
          0,
          0,
          1,
          1,
          2,
          0,
          5,
          28,
          1,
          0,
          0,
          0,
          1,
          3,
          0,
          7,
          1,
          2,
          1,
          2,
          1,
          0,
          0,
          1,
          1,
          0,
          4,
          0,
          0,
          0,
          1,
          0,
          0,
          1,
          0,
          0,
          43,
          0,
          1,
          0,
          0,
          1,
          0,
          1,
          1,
          0,
          1,
          0,
          0,
          0,
          0,
          32,
          0,
          0,
          1,
          44,
          0,
          0,
          0,
          1,
          1,
          0,
          0,
          0,
          2,
          0,
          0,
          50,
          29,
          0,
          2,
          3,
          0,
          1,
          67,
          24,
          1,
          1,
          1,
          1,
          2,
          1,
          1,
          0,
          43,
          0,
          0,
          0,
          0,
          0,
          0,
          2,
          0,
          0,
          0,
          46,
          0,
          118,
          0,
          1,
          1,
          4,
          0,
          0,
          44,
          3,
          1,
          0,
          0,
          1,
          0,
          2,
          50,
          0,
          2,
          1,
          30,
          0,
          1,
          7,
          0,
          0,
          0,
          0,
          0,
          0,
          2,
          1,
          0,
          0,
          25,
          1,
          3,
          0,
          1,
          49,
          1,
          3,
          0,
          0,
          0,
          4,
          0,
          1,
          0,
          0,
          2,
          2,
          44,
          0,
          3,
          1,
          4,
          0,
          0,
          0,
          0,
          2,
          0,
          0,
          0,
          6,
          1,
          4,
          0,
          40,
          0,
          0,
          2,
          76,
          1,
          1,
          26,
          1,
          0,
          52,
          2,
          2,
          56,
          30,
          1,
          0,
          1,
          1,
          0,
          0,
          1,
          0,
          2,
          6,
          0,
          0,
          1,
          1,
          0,
          3,
          0,
          0,
          52,
          1,
          42,
          0,
          0,
          0,
          1,
          2,
          2,
          0,
          1,
          0,
          0,
          0,
          1,
          1,
          1,
          1,
          3,
          0,
          1,
          0,
          2,
          1,
          2,
          24,
          3,
          3,
          0,
          3,
          1,
          1,
          0,
          46,
          0,
          0,
          4,
          1,
          1,
          0,
          1,
          1,
          0,
          0,
          4,
          0,
          0,
          0,
          0,
          29,
          1,
          3,
          4,
          0,
          0,
          0,
          0,
          78,
          0,
          2,
          1,
          0,
          49,
          1,
          0,
          43,
          3,
          0,
          0,
          1,
          0,
          1,
          40,
          49,
          0,
          0,
          32,
          0,
          0,
          2,
          0,
          0,
          1,
          37,
          3,
          58,
          39,
          1,
          1,
          0,
          2,
          0,
          0,
          0,
          3,
          0,
          0,
          0,
          0,
          2,
          0,
          0,
          27,
          52,
          0,
          3,
          0,
          0,
          0,
          3,
          0,
          2,
          0,
          1,
          1,
          49,
          0,
          0,
          1,
          1,
          1,
          0,
          0,
          3,
          6,
          0,
          1,
          65,
          1,
          1,
          52,
          0,
          1,
          0,
          0,
          2,
          34,
          0,
          24,
          0,
          72,
          31,
          1,
          0,
          1,
          42,
          4,
          0,
          0,
          3,
          0,
          0,
          29,
          0,
          0,
          2,
          0,
          4,
          0,
          6,
          0,
          0,
          0,
          0,
          0,
          0,
          0,
          0,
          1,
          2,
          29,
          0,
          0,
          32,
          0,
          112,
          0,
          1,
          3,
          0,
          2,
          0,
          0,
          1
         ],
         "y": [
          55608,
          48327,
          61453,
          65432,
          44410.85547,
          73620,
          55411,
          61255,
          61988,
          31000,
          61218,
          58946,
          41563,
          75614,
          35257,
          35257,
          41483,
          63500,
          46292,
          58149,
          66166,
          34731,
          42614,
          50280,
          64918,
          32000,
          64713,
          50008,
          36487,
          44204,
          33680,
          30000,
          40066,
          57965.11719,
          34206,
          46810.86719,
          45584,
          36000,
          45229,
          34468,
          33680,
          48099,
          55549.5625,
          35000,
          33154,
          33680,
          61008,
          39754,
          56055,
          58118,
          68651,
          40356,
          40465,
          57192,
          35000,
          62059,
          53665,
          74265.39844,
          63073,
          56000,
          48921,
          38936,
          68444.51563,
          33680,
          43958,
          51698,
          35782,
          64854.3125,
          73155,
          53376,
          41121,
          36833,
          34603,
          39000,
          73669,
          62173,
          35206,
          39986,
          66537,
          49499,
          49439,
          46292,
          46573.64844,
          44045,
          41073,
          40000,
          52894,
          56252,
          55210,
          63997,
          40986,
          54423,
          39871,
          67647,
          58134,
          63660.85156,
          42603,
          45032,
          89789,
          35980,
          82508,
          42388,
          58766.75781,
          39660,
          58982,
          46601,
          30001,
          50096,
          43500,
          41723,
          55406,
          47573,
          47821,
          69374,
          38935,
          40615,
          38410,
          48289,
          58471,
          66789.70313,
          37884,
          71835,
          62211,
          50683,
          44463,
          63144,
          39461,
          55039,
          62276,
          31577,
          55524,
          56574,
          47661,
          40356,
          35782,
          54850,
          48000,
          62899,
          53103,
          70563,
          60678,
          75365,
          90082,
          35317,
          40636,
          54464,
          43641,
          40000,
          61008,
          80103,
          63357,
          63337,
          47999.42188,
          55978.19531,
          34731,
          37410,
          61179,
          66570,
          45763,
          51729,
          55752,
          47820,
          65852,
          43921,
          58949,
          62523,
          34731,
          60725.86719,
          45837,
          37359,
          48378,
          71573,
          49667,
          51565,
          51943,
          50235,
          69654.33594,
          56884,
          64073,
          51126,
          33680,
          67339,
          70546,
          70514,
          56933,
          34206,
          57973,
          57779,
          33703,
          35574,
          59432,
          36833,
          59403.16016,
          45838,
          61123,
          61812,
          72152,
          53187,
          42717.59766,
          41106,
          36833,
          52738.91406,
          66115,
          58530,
          69709,
          63827,
          45047,
          37615,
          60190,
          42537,
          48473,
          67062,
          60717,
          34000,
          40945,
          55826,
          53274,
          59000,
          83192.23438,
          41425,
          56433,
          34206,
          39924,
          31000,
          67199,
          42977,
          52446,
          58930,
          46416,
          63155,
          63800,
          44813,
          54686,
          60056,
          46292,
          54238,
          33680,
          37000,
          35782,
          58498.453129999994,
          48210,
          31000,
          34206,
          49768,
          41563,
          40000,
          48543,
          64109,
          33680,
          59564,
          30000,
          38818,
          56000,
          71543,
          62091,
          73349,
          36583,
          34731,
          52173,
          47396,
          42482,
          64161,
          36869,
          59472,
          39461,
          76098,
          38810.01172,
          54222,
          43695,
          29500,
          60423,
          31000,
          44413,
          60498,
          52172,
          33010,
          35257,
          30662,
          71142,
          52034,
          53003,
          56350,
          43277,
          56542,
          55847,
          38333,
          53543,
          48941,
          51640,
          36308,
          68133,
          39574,
          61439,
          78660,
          37000,
          44539,
          48395,
          72533,
          38361.74609,
          38935,
          44225,
          91405,
          48531,
          37733,
          62801,
          63409,
          56436,
          56687,
          62164.72656,
          48065,
          54822,
          48765,
          48666,
          56419,
          66032,
          68894,
          53010,
          49923,
          38600,
          54274,
          32000,
          60153,
          65836.72656,
          44190,
          64073,
          34157,
          33680,
          58000,
          38410,
          41063,
          38000,
          32944,
          56278,
          60006,
          40512,
          56182,
          58698,
          34206,
          68906,
          44678,
          66746,
          34997,
          40512,
          51954,
          64863,
          61316,
          61008,
          65212,
          39771.16016,
          36308,
          71812,
          54211,
          39777,
          46843,
          52996,
          65533,
          50729,
          80137,
          60653.0625,
          36308,
          66334,
          42088,
          32000,
          50838,
          36515,
          52627,
          60402,
          37037,
          47029,
          49357,
          33680,
          62059,
          33680,
          60345,
          75353,
          55090,
          32000,
          60892,
          57612,
          37000,
          52580,
          37359,
          46551,
          33800,
          54296,
          47344,
          52090,
          63167,
          59835,
          43188,
          47349,
          55979,
          69827.75,
          41682,
          79002,
          34914,
          41015,
          82878,
          54701,
          37067,
          48078,
          52662,
          55121,
          48168,
          41974,
          65212,
          53248,
          62587,
          32000,
          40512
         ]
        }
       ],
       "layout": {
        "title": "Salary ~ Yearsabs"
       }
      },
      "text/html": [
       "<div id=\"5728f0f7-0567-4496-949e-aafc88ae4e0b\" style=\"height: 525px; width: 100%;\" class=\"plotly-graph-div\"></div><script type=\"text/javascript\">require([\"plotly\"], function(Plotly) { window.PLOTLYENV=window.PLOTLYENV || {};window.PLOTLYENV.BASE_URL=\"https://plot.ly\";Plotly.newPlot(\"5728f0f7-0567-4496-949e-aafc88ae4e0b\", [{\"type\": \"histogram\", \"x\": [0, 1, 0, 1, 51, 0, 0, 1, 0, 1, 0, 27, 2, 0, 0, 0, 1, 25, 0, 1, 0, 2, 0, 58, 1, 0, 3, 47, 0, 0, 1, 1, 2, 0, 5, 28, 1, 0, 0, 0, 1, 3, 0, 7, 1, 2, 1, 2, 1, 0, 0, 1, 1, 0, 4, 0, 0, 0, 1, 0, 0, 1, 0, 0, 43, 0, 1, 0, 0, 1, 0, 1, 1, 0, 1, 0, 0, 0, 0, 32, 0, 0, 1, 44, 0, 0, 0, 1, 1, 0, 0, 0, 2, 0, 0, 50, 29, 0, 2, 3, 0, 1, 67, 24, 1, 1, 1, 1, 2, 1, 1, 0, 43, 0, 0, 0, 0, 0, 0, 2, 0, 0, 0, 46, 0, 118, 0, 1, 1, 4, 0, 0, 44, 3, 1, 0, 0, 1, 0, 2, 50, 0, 2, 1, 30, 0, 1, 7, 0, 0, 0, 0, 0, 0, 2, 1, 0, 0, 25, 1, 3, 0, 1, 49, 1, 3, 0, 0, 0, 4, 0, 1, 0, 0, 2, 2, 44, 0, 3, 1, 4, 0, 0, 0, 0, 2, 0, 0, 0, 6, 1, 4, 0, 40, 0, 0, 2, 76, 1, 1, 26, 1, 0, 52, 2, 2, 56, 30, 1, 0, 1, 1, 0, 0, 1, 0, 2, 6, 0, 0, 1, 1, 0, 3, 0, 0, 52, 1, 42, 0, 0, 0, 1, 2, 2, 0, 1, 0, 0, 0, 1, 1, 1, 1, 3, 0, 1, 0, 2, 1, 2, 24, 3, 3, 0, 3, 1, 1, 0, 46, 0, 0, 4, 1, 1, 0, 1, 1, 0, 0, 4, 0, 0, 0, 0, 29, 1, 3, 4, 0, 0, 0, 0, 78, 0, 2, 1, 0, 49, 1, 0, 43, 3, 0, 0, 1, 0, 1, 40, 49, 0, 0, 32, 0, 0, 2, 0, 0, 1, 37, 3, 58, 39, 1, 1, 0, 2, 0, 0, 0, 3, 0, 0, 0, 0, 2, 0, 0, 27, 52, 0, 3, 0, 0, 0, 3, 0, 2, 0, 1, 1, 49, 0, 0, 1, 1, 1, 0, 0, 3, 6, 0, 1, 65, 1, 1, 52, 0, 1, 0, 0, 2, 34, 0, 24, 0, 72, 31, 1, 0, 1, 42, 4, 0, 0, 3, 0, 0, 29, 0, 0, 2, 0, 4, 0, 6, 0, 0, 0, 0, 0, 0, 0, 0, 1, 2, 29, 0, 0, 32, 0, 112, 0, 1, 3, 0, 2, 0, 0, 1], \"y\": [55608.0, 48327.0, 61453.0, 65432.0, 44410.85547, 73620.0, 55411.0, 61255.0, 61988.0, 31000.0, 61218.0, 58946.0, 41563.0, 75614.0, 35257.0, 35257.0, 41483.0, 63500.0, 46292.0, 58149.0, 66166.0, 34731.0, 42614.0, 50280.0, 64918.0, 32000.0, 64713.0, 50008.0, 36487.0, 44204.0, 33680.0, 30000.0, 40066.0, 57965.11719, 34206.0, 46810.86719, 45584.0, 36000.0, 45229.0, 34468.0, 33680.0, 48099.0, 55549.5625, 35000.0, 33154.0, 33680.0, 61008.0, 39754.0, 56055.0, 58118.0, 68651.0, 40356.0, 40465.0, 57192.0, 35000.0, 62059.0, 53665.0, 74265.39844, 63073.0, 56000.0, 48921.0, 38936.0, 68444.51563, 33680.0, 43958.0, 51698.0, 35782.0, 64854.3125, 73155.0, 53376.0, 41121.0, 36833.0, 34603.0, 39000.0, 73669.0, 62173.0, 35206.0, 39986.0, 66537.0, 49499.0, 49439.0, 46292.0, 46573.64844, 44045.0, 41073.0, 40000.0, 52894.0, 56252.0, 55210.0, 63997.0, 40986.0, 54423.0, 39871.0, 67647.0, 58134.0, 63660.85156, 42603.0, 45032.0, 89789.0, 35980.0, 82508.0, 42388.0, 58766.75781, 39660.0, 58982.0, 46601.0, 30001.0, 50096.0, 43500.0, 41723.0, 55406.0, 47573.0, 47821.0, 69374.0, 38935.0, 40615.0, 38410.0, 48289.0, 58471.0, 66789.70313, 37884.0, 71835.0, 62211.0, 50683.0, 44463.0, 63144.0, 39461.0, 55039.0, 62276.0, 31577.0, 55524.0, 56574.0, 47661.0, 40356.0, 35782.0, 54850.0, 48000.0, 62899.0, 53103.0, 70563.0, 60678.0, 75365.0, 90082.0, 35317.0, 40636.0, 54464.0, 43641.0, 40000.0, 61008.0, 80103.0, 63357.0, 63337.0, 47999.42188, 55978.19531, 34731.0, 37410.0, 61179.0, 66570.0, 45763.0, 51729.0, 55752.0, 47820.0, 65852.0, 43921.0, 58949.0, 62523.0, 34731.0, 60725.86719, 45837.0, 37359.0, 48378.0, 71573.0, 49667.0, 51565.0, 51943.0, 50235.0, 69654.33594, 56884.0, 64073.0, 51126.0, 33680.0, 67339.0, 70546.0, 70514.0, 56933.0, 34206.0, 57973.0, 57779.0, 33703.0, 35574.0, 59432.0, 36833.0, 59403.16016, 45838.0, 61123.0, 61812.0, 72152.0, 53187.0, 42717.59766, 41106.0, 36833.0, 52738.91406, 66115.0, 58530.0, 69709.0, 63827.0, 45047.0, 37615.0, 60190.0, 42537.0, 48473.0, 67062.0, 60717.0, 34000.0, 40945.0, 55826.0, 53274.0, 59000.0, 83192.23438, 41425.0, 56433.0, 34206.0, 39924.0, 31000.0, 67199.0, 42977.0, 52446.0, 58930.0, 46416.0, 63155.0, 63800.0, 44813.0, 54686.0, 60056.0, 46292.0, 54238.0, 33680.0, 37000.0, 35782.0, 58498.453129999994, 48210.0, 31000.0, 34206.0, 49768.0, 41563.0, 40000.0, 48543.0, 64109.0, 33680.0, 59564.0, 30000.0, 38818.0, 56000.0, 71543.0, 62091.0, 73349.0, 36583.0, 34731.0, 52173.0, 47396.0, 42482.0, 64161.0, 36869.0, 59472.0, 39461.0, 76098.0, 38810.01172, 54222.0, 43695.0, 29500.0, 60423.0, 31000.0, 44413.0, 60498.0, 52172.0, 33010.0, 35257.0, 30662.0, 71142.0, 52034.0, 53003.0, 56350.0, 43277.0, 56542.0, 55847.0, 38333.0, 53543.0, 48941.0, 51640.0, 36308.0, 68133.0, 39574.0, 61439.0, 78660.0, 37000.0, 44539.0, 48395.0, 72533.0, 38361.74609, 38935.0, 44225.0, 91405.0, 48531.0, 37733.0, 62801.0, 63409.0, 56436.0, 56687.0, 62164.72656, 48065.0, 54822.0, 48765.0, 48666.0, 56419.0, 66032.0, 68894.0, 53010.0, 49923.0, 38600.0, 54274.0, 32000.0, 60153.0, 65836.72656, 44190.0, 64073.0, 34157.0, 33680.0, 58000.0, 38410.0, 41063.0, 38000.0, 32944.0, 56278.0, 60006.0, 40512.0, 56182.0, 58698.0, 34206.0, 68906.0, 44678.0, 66746.0, 34997.0, 40512.0, 51954.0, 64863.0, 61316.0, 61008.0, 65212.0, 39771.16016, 36308.0, 71812.0, 54211.0, 39777.0, 46843.0, 52996.0, 65533.0, 50729.0, 80137.0, 60653.0625, 36308.0, 66334.0, 42088.0, 32000.0, 50838.0, 36515.0, 52627.0, 60402.0, 37037.0, 47029.0, 49357.0, 33680.0, 62059.0, 33680.0, 60345.0, 75353.0, 55090.0, 32000.0, 60892.0, 57612.0, 37000.0, 52580.0, 37359.0, 46551.0, 33800.0, 54296.0, 47344.0, 52090.0, 63167.0, 59835.0, 43188.0, 47349.0, 55979.0, 69827.75, 41682.0, 79002.0, 34914.0, 41015.0, 82878.0, 54701.0, 37067.0, 48078.0, 52662.0, 55121.0, 48168.0, 41974.0, 65212.0, 53248.0, 62587.0, 32000.0, 40512.0]}], {\"title\": \"Salary ~ Yearsabs\"}, {\"showLink\": true, \"linkText\": \"Export to plot.ly\"})});</script>"
      ],
      "text/vnd.plotly.v1+html": [
       "<div id=\"5728f0f7-0567-4496-949e-aafc88ae4e0b\" style=\"height: 525px; width: 100%;\" class=\"plotly-graph-div\"></div><script type=\"text/javascript\">require([\"plotly\"], function(Plotly) { window.PLOTLYENV=window.PLOTLYENV || {};window.PLOTLYENV.BASE_URL=\"https://plot.ly\";Plotly.newPlot(\"5728f0f7-0567-4496-949e-aafc88ae4e0b\", [{\"type\": \"histogram\", \"x\": [0, 1, 0, 1, 51, 0, 0, 1, 0, 1, 0, 27, 2, 0, 0, 0, 1, 25, 0, 1, 0, 2, 0, 58, 1, 0, 3, 47, 0, 0, 1, 1, 2, 0, 5, 28, 1, 0, 0, 0, 1, 3, 0, 7, 1, 2, 1, 2, 1, 0, 0, 1, 1, 0, 4, 0, 0, 0, 1, 0, 0, 1, 0, 0, 43, 0, 1, 0, 0, 1, 0, 1, 1, 0, 1, 0, 0, 0, 0, 32, 0, 0, 1, 44, 0, 0, 0, 1, 1, 0, 0, 0, 2, 0, 0, 50, 29, 0, 2, 3, 0, 1, 67, 24, 1, 1, 1, 1, 2, 1, 1, 0, 43, 0, 0, 0, 0, 0, 0, 2, 0, 0, 0, 46, 0, 118, 0, 1, 1, 4, 0, 0, 44, 3, 1, 0, 0, 1, 0, 2, 50, 0, 2, 1, 30, 0, 1, 7, 0, 0, 0, 0, 0, 0, 2, 1, 0, 0, 25, 1, 3, 0, 1, 49, 1, 3, 0, 0, 0, 4, 0, 1, 0, 0, 2, 2, 44, 0, 3, 1, 4, 0, 0, 0, 0, 2, 0, 0, 0, 6, 1, 4, 0, 40, 0, 0, 2, 76, 1, 1, 26, 1, 0, 52, 2, 2, 56, 30, 1, 0, 1, 1, 0, 0, 1, 0, 2, 6, 0, 0, 1, 1, 0, 3, 0, 0, 52, 1, 42, 0, 0, 0, 1, 2, 2, 0, 1, 0, 0, 0, 1, 1, 1, 1, 3, 0, 1, 0, 2, 1, 2, 24, 3, 3, 0, 3, 1, 1, 0, 46, 0, 0, 4, 1, 1, 0, 1, 1, 0, 0, 4, 0, 0, 0, 0, 29, 1, 3, 4, 0, 0, 0, 0, 78, 0, 2, 1, 0, 49, 1, 0, 43, 3, 0, 0, 1, 0, 1, 40, 49, 0, 0, 32, 0, 0, 2, 0, 0, 1, 37, 3, 58, 39, 1, 1, 0, 2, 0, 0, 0, 3, 0, 0, 0, 0, 2, 0, 0, 27, 52, 0, 3, 0, 0, 0, 3, 0, 2, 0, 1, 1, 49, 0, 0, 1, 1, 1, 0, 0, 3, 6, 0, 1, 65, 1, 1, 52, 0, 1, 0, 0, 2, 34, 0, 24, 0, 72, 31, 1, 0, 1, 42, 4, 0, 0, 3, 0, 0, 29, 0, 0, 2, 0, 4, 0, 6, 0, 0, 0, 0, 0, 0, 0, 0, 1, 2, 29, 0, 0, 32, 0, 112, 0, 1, 3, 0, 2, 0, 0, 1], \"y\": [55608.0, 48327.0, 61453.0, 65432.0, 44410.85547, 73620.0, 55411.0, 61255.0, 61988.0, 31000.0, 61218.0, 58946.0, 41563.0, 75614.0, 35257.0, 35257.0, 41483.0, 63500.0, 46292.0, 58149.0, 66166.0, 34731.0, 42614.0, 50280.0, 64918.0, 32000.0, 64713.0, 50008.0, 36487.0, 44204.0, 33680.0, 30000.0, 40066.0, 57965.11719, 34206.0, 46810.86719, 45584.0, 36000.0, 45229.0, 34468.0, 33680.0, 48099.0, 55549.5625, 35000.0, 33154.0, 33680.0, 61008.0, 39754.0, 56055.0, 58118.0, 68651.0, 40356.0, 40465.0, 57192.0, 35000.0, 62059.0, 53665.0, 74265.39844, 63073.0, 56000.0, 48921.0, 38936.0, 68444.51563, 33680.0, 43958.0, 51698.0, 35782.0, 64854.3125, 73155.0, 53376.0, 41121.0, 36833.0, 34603.0, 39000.0, 73669.0, 62173.0, 35206.0, 39986.0, 66537.0, 49499.0, 49439.0, 46292.0, 46573.64844, 44045.0, 41073.0, 40000.0, 52894.0, 56252.0, 55210.0, 63997.0, 40986.0, 54423.0, 39871.0, 67647.0, 58134.0, 63660.85156, 42603.0, 45032.0, 89789.0, 35980.0, 82508.0, 42388.0, 58766.75781, 39660.0, 58982.0, 46601.0, 30001.0, 50096.0, 43500.0, 41723.0, 55406.0, 47573.0, 47821.0, 69374.0, 38935.0, 40615.0, 38410.0, 48289.0, 58471.0, 66789.70313, 37884.0, 71835.0, 62211.0, 50683.0, 44463.0, 63144.0, 39461.0, 55039.0, 62276.0, 31577.0, 55524.0, 56574.0, 47661.0, 40356.0, 35782.0, 54850.0, 48000.0, 62899.0, 53103.0, 70563.0, 60678.0, 75365.0, 90082.0, 35317.0, 40636.0, 54464.0, 43641.0, 40000.0, 61008.0, 80103.0, 63357.0, 63337.0, 47999.42188, 55978.19531, 34731.0, 37410.0, 61179.0, 66570.0, 45763.0, 51729.0, 55752.0, 47820.0, 65852.0, 43921.0, 58949.0, 62523.0, 34731.0, 60725.86719, 45837.0, 37359.0, 48378.0, 71573.0, 49667.0, 51565.0, 51943.0, 50235.0, 69654.33594, 56884.0, 64073.0, 51126.0, 33680.0, 67339.0, 70546.0, 70514.0, 56933.0, 34206.0, 57973.0, 57779.0, 33703.0, 35574.0, 59432.0, 36833.0, 59403.16016, 45838.0, 61123.0, 61812.0, 72152.0, 53187.0, 42717.59766, 41106.0, 36833.0, 52738.91406, 66115.0, 58530.0, 69709.0, 63827.0, 45047.0, 37615.0, 60190.0, 42537.0, 48473.0, 67062.0, 60717.0, 34000.0, 40945.0, 55826.0, 53274.0, 59000.0, 83192.23438, 41425.0, 56433.0, 34206.0, 39924.0, 31000.0, 67199.0, 42977.0, 52446.0, 58930.0, 46416.0, 63155.0, 63800.0, 44813.0, 54686.0, 60056.0, 46292.0, 54238.0, 33680.0, 37000.0, 35782.0, 58498.453129999994, 48210.0, 31000.0, 34206.0, 49768.0, 41563.0, 40000.0, 48543.0, 64109.0, 33680.0, 59564.0, 30000.0, 38818.0, 56000.0, 71543.0, 62091.0, 73349.0, 36583.0, 34731.0, 52173.0, 47396.0, 42482.0, 64161.0, 36869.0, 59472.0, 39461.0, 76098.0, 38810.01172, 54222.0, 43695.0, 29500.0, 60423.0, 31000.0, 44413.0, 60498.0, 52172.0, 33010.0, 35257.0, 30662.0, 71142.0, 52034.0, 53003.0, 56350.0, 43277.0, 56542.0, 55847.0, 38333.0, 53543.0, 48941.0, 51640.0, 36308.0, 68133.0, 39574.0, 61439.0, 78660.0, 37000.0, 44539.0, 48395.0, 72533.0, 38361.74609, 38935.0, 44225.0, 91405.0, 48531.0, 37733.0, 62801.0, 63409.0, 56436.0, 56687.0, 62164.72656, 48065.0, 54822.0, 48765.0, 48666.0, 56419.0, 66032.0, 68894.0, 53010.0, 49923.0, 38600.0, 54274.0, 32000.0, 60153.0, 65836.72656, 44190.0, 64073.0, 34157.0, 33680.0, 58000.0, 38410.0, 41063.0, 38000.0, 32944.0, 56278.0, 60006.0, 40512.0, 56182.0, 58698.0, 34206.0, 68906.0, 44678.0, 66746.0, 34997.0, 40512.0, 51954.0, 64863.0, 61316.0, 61008.0, 65212.0, 39771.16016, 36308.0, 71812.0, 54211.0, 39777.0, 46843.0, 52996.0, 65533.0, 50729.0, 80137.0, 60653.0625, 36308.0, 66334.0, 42088.0, 32000.0, 50838.0, 36515.0, 52627.0, 60402.0, 37037.0, 47029.0, 49357.0, 33680.0, 62059.0, 33680.0, 60345.0, 75353.0, 55090.0, 32000.0, 60892.0, 57612.0, 37000.0, 52580.0, 37359.0, 46551.0, 33800.0, 54296.0, 47344.0, 52090.0, 63167.0, 59835.0, 43188.0, 47349.0, 55979.0, 69827.75, 41682.0, 79002.0, 34914.0, 41015.0, 82878.0, 54701.0, 37067.0, 48078.0, 52662.0, 55121.0, 48168.0, 41974.0, 65212.0, 53248.0, 62587.0, 32000.0, 40512.0]}], {\"title\": \"Salary ~ Yearsabs\"}, {\"showLink\": true, \"linkText\": \"Export to plot.ly\"})});</script>"
      ]
     },
     "metadata": {},
     "output_type": "display_data"
    }
   ],
   "source": [
    "import plotly\n",
    "import plotly.graph_objs as go\n",
    "\n",
    "plotly.offline.init_notebook_mode(connected=True)\n",
    "\n",
    "plotly.offline.iplot({\n",
    "    \"data\": [go.Histogram(x=X_train.yearsabs, y=X_train[\"salary\"])],\n",
    "    \"layout\": go.Layout(title=\"Salary ~ Yearsabs\")\n",
    "})"
   ]
  },
  {
   "cell_type": "code",
   "execution_count": 249,
   "metadata": {},
   "outputs": [
    {
     "data": {
      "text/plain": [
       "<seaborn.axisgrid.PairGrid at 0x7f6a991a8080>"
      ]
     },
     "execution_count": 249,
     "metadata": {},
     "output_type": "execute_result"
    },
    {
     "data": {
      "image/png": "[encoded data removed]",
      "text/plain": [
       "<Figure size 864x216 with 4 Axes>"
      ]
     },
     "metadata": {},
     "output_type": "display_data"
    }
   ],
   "source": [
    "# multiple scatter plots in Seaborn\n",
    "sns.pairplot(X_train, x_vars=feature_cols, y_vars='salary', kind='reg',height=3)"
   ]
  },
  {
   "cell_type": "code",
   "execution_count": null,
   "metadata": {},
   "outputs": [],
   "source": []
  },
  {
   "cell_type": "code",
   "execution_count": null,
   "metadata": {},
   "outputs": [],
   "source": []
  },
  {
   "cell_type": "markdown",
   "metadata": {},
   "source": [
    "### 3. Produce a correlation matrix comparing the relationship of salary to the predictor variables. Is there any multicollinearity or other problems that may be a problem in the multiple regression?"
   ]
  },
  {
   "cell_type": "code",
   "execution_count": 250,
   "metadata": {},
   "outputs": [
    {
     "data": {
      "text/html": [
       "<style  type=\"text/css\" >\n",
       "    #T_b010022c_7e20_11e9_9a69_732d47d13bbdrow0_col0 {\n",
       "            background-color:  #b40426;\n",
       "            color:  #f1f1f1;\n",
       "        }    #T_b010022c_7e20_11e9_9a69_732d47d13bbdrow0_col1 {\n",
       "            background-color:  #9bbcff;\n",
       "            color:  #000000;\n",
       "        }    #T_b010022c_7e20_11e9_9a69_732d47d13bbdrow0_col2 {\n",
       "            background-color:  #f6a385;\n",
       "            color:  #000000;\n",
       "        }    #T_b010022c_7e20_11e9_9a69_732d47d13bbdrow0_col3 {\n",
       "            background-color:  #f7a889;\n",
       "            color:  #000000;\n",
       "        }    #T_b010022c_7e20_11e9_9a69_732d47d13bbdrow0_col4 {\n",
       "            background-color:  #e4d9d2;\n",
       "            color:  #000000;\n",
       "        }    #T_b010022c_7e20_11e9_9a69_732d47d13bbdrow0_col5 {\n",
       "            background-color:  #85a8fc;\n",
       "            color:  #000000;\n",
       "        }    #T_b010022c_7e20_11e9_9a69_732d47d13bbdrow0_col6 {\n",
       "            background-color:  #aac7fd;\n",
       "            color:  #000000;\n",
       "        }    #T_b010022c_7e20_11e9_9a69_732d47d13bbdrow0_col7 {\n",
       "            background-color:  #f29072;\n",
       "            color:  #000000;\n",
       "        }    #T_b010022c_7e20_11e9_9a69_732d47d13bbdrow0_col8 {\n",
       "            background-color:  #f3c8b2;\n",
       "            color:  #000000;\n",
       "        }    #T_b010022c_7e20_11e9_9a69_732d47d13bbdrow0_col9 {\n",
       "            background-color:  #3b4cc0;\n",
       "            color:  #f1f1f1;\n",
       "        }    #T_b010022c_7e20_11e9_9a69_732d47d13bbdrow0_col10 {\n",
       "            background-color:  #aac7fd;\n",
       "            color:  #000000;\n",
       "        }    #T_b010022c_7e20_11e9_9a69_732d47d13bbdrow1_col0 {\n",
       "            background-color:  #c5d6f2;\n",
       "            color:  #000000;\n",
       "        }    #T_b010022c_7e20_11e9_9a69_732d47d13bbdrow1_col1 {\n",
       "            background-color:  #b40426;\n",
       "            color:  #f1f1f1;\n",
       "        }    #T_b010022c_7e20_11e9_9a69_732d47d13bbdrow1_col2 {\n",
       "            background-color:  #4961d2;\n",
       "            color:  #f1f1f1;\n",
       "        }    #T_b010022c_7e20_11e9_9a69_732d47d13bbdrow1_col3 {\n",
       "            background-color:  #779af7;\n",
       "            color:  #000000;\n",
       "        }    #T_b010022c_7e20_11e9_9a69_732d47d13bbdrow1_col4 {\n",
       "            background-color:  #6a8bef;\n",
       "            color:  #000000;\n",
       "        }    #T_b010022c_7e20_11e9_9a69_732d47d13bbdrow1_col5 {\n",
       "            background-color:  #7093f3;\n",
       "            color:  #000000;\n",
       "        }    #T_b010022c_7e20_11e9_9a69_732d47d13bbdrow1_col6 {\n",
       "            background-color:  #c1d4f4;\n",
       "            color:  #000000;\n",
       "        }    #T_b010022c_7e20_11e9_9a69_732d47d13bbdrow1_col7 {\n",
       "            background-color:  #a6c4fe;\n",
       "            color:  #000000;\n",
       "        }    #T_b010022c_7e20_11e9_9a69_732d47d13bbdrow1_col8 {\n",
       "            background-color:  #c4d5f3;\n",
       "            color:  #000000;\n",
       "        }    #T_b010022c_7e20_11e9_9a69_732d47d13bbdrow1_col9 {\n",
       "            background-color:  #a2c1ff;\n",
       "            color:  #000000;\n",
       "        }    #T_b010022c_7e20_11e9_9a69_732d47d13bbdrow1_col10 {\n",
       "            background-color:  #d4dbe6;\n",
       "            color:  #000000;\n",
       "        }    #T_b010022c_7e20_11e9_9a69_732d47d13bbdrow2_col0 {\n",
       "            background-color:  #f39577;\n",
       "            color:  #000000;\n",
       "        }    #T_b010022c_7e20_11e9_9a69_732d47d13bbdrow2_col1 {\n",
       "            background-color:  #3b4cc0;\n",
       "            color:  #f1f1f1;\n",
       "        }    #T_b010022c_7e20_11e9_9a69_732d47d13bbdrow2_col2 {\n",
       "            background-color:  #b40426;\n",
       "            color:  #f1f1f1;\n",
       "        }    #T_b010022c_7e20_11e9_9a69_732d47d13bbdrow2_col3 {\n",
       "            background-color:  #e46e56;\n",
       "            color:  #000000;\n",
       "        }    #T_b010022c_7e20_11e9_9a69_732d47d13bbdrow2_col4 {\n",
       "            background-color:  #6a8bef;\n",
       "            color:  #000000;\n",
       "        }    #T_b010022c_7e20_11e9_9a69_732d47d13bbdrow2_col5 {\n",
       "            background-color:  #7ea1fa;\n",
       "            color:  #000000;\n",
       "        }    #T_b010022c_7e20_11e9_9a69_732d47d13bbdrow2_col6 {\n",
       "            background-color:  #6c8ff1;\n",
       "            color:  #000000;\n",
       "        }    #T_b010022c_7e20_11e9_9a69_732d47d13bbdrow2_col7 {\n",
       "            background-color:  #ec7f63;\n",
       "            color:  #000000;\n",
       "        }    #T_b010022c_7e20_11e9_9a69_732d47d13bbdrow2_col8 {\n",
       "            background-color:  #edd2c3;\n",
       "            color:  #000000;\n",
       "        }    #T_b010022c_7e20_11e9_9a69_732d47d13bbdrow2_col9 {\n",
       "            background-color:  #6384eb;\n",
       "            color:  #000000;\n",
       "        }    #T_b010022c_7e20_11e9_9a69_732d47d13bbdrow2_col10 {\n",
       "            background-color:  #c0d4f5;\n",
       "            color:  #000000;\n",
       "        }    #T_b010022c_7e20_11e9_9a69_732d47d13bbdrow3_col0 {\n",
       "            background-color:  #f49a7b;\n",
       "            color:  #000000;\n",
       "        }    #T_b010022c_7e20_11e9_9a69_732d47d13bbdrow3_col1 {\n",
       "            background-color:  #688aef;\n",
       "            color:  #000000;\n",
       "        }    #T_b010022c_7e20_11e9_9a69_732d47d13bbdrow3_col2 {\n",
       "            background-color:  #e46e56;\n",
       "            color:  #000000;\n",
       "        }    #T_b010022c_7e20_11e9_9a69_732d47d13bbdrow3_col3 {\n",
       "            background-color:  #b40426;\n",
       "            color:  #f1f1f1;\n",
       "        }    #T_b010022c_7e20_11e9_9a69_732d47d13bbdrow3_col4 {\n",
       "            background-color:  #7396f5;\n",
       "            color:  #000000;\n",
       "        }    #T_b010022c_7e20_11e9_9a69_732d47d13bbdrow3_col5 {\n",
       "            background-color:  #7da0f9;\n",
       "            color:  #000000;\n",
       "        }    #T_b010022c_7e20_11e9_9a69_732d47d13bbdrow3_col6 {\n",
       "            background-color:  #7b9ff9;\n",
       "            color:  #000000;\n",
       "        }    #T_b010022c_7e20_11e9_9a69_732d47d13bbdrow3_col7 {\n",
       "            background-color:  #f1ccb8;\n",
       "            color:  #000000;\n",
       "        }    #T_b010022c_7e20_11e9_9a69_732d47d13bbdrow3_col8 {\n",
       "            background-color:  #e4d9d2;\n",
       "            color:  #000000;\n",
       "        }    #T_b010022c_7e20_11e9_9a69_732d47d13bbdrow3_col9 {\n",
       "            background-color:  #6384eb;\n",
       "            color:  #000000;\n",
       "        }    #T_b010022c_7e20_11e9_9a69_732d47d13bbdrow3_col10 {\n",
       "            background-color:  #c1d4f4;\n",
       "            color:  #000000;\n",
       "        }    #T_b010022c_7e20_11e9_9a69_732d47d13bbdrow4_col0 {\n",
       "            background-color:  #f3c8b2;\n",
       "            color:  #000000;\n",
       "        }    #T_b010022c_7e20_11e9_9a69_732d47d13bbdrow4_col1 {\n",
       "            background-color:  #6b8df0;\n",
       "            color:  #000000;\n",
       "        }    #T_b010022c_7e20_11e9_9a69_732d47d13bbdrow4_col2 {\n",
       "            background-color:  #7a9df8;\n",
       "            color:  #000000;\n",
       "        }    #T_b010022c_7e20_11e9_9a69_732d47d13bbdrow4_col3 {\n",
       "            background-color:  #82a6fb;\n",
       "            color:  #000000;\n",
       "        }    #T_b010022c_7e20_11e9_9a69_732d47d13bbdrow4_col4 {\n",
       "            background-color:  #b40426;\n",
       "            color:  #f1f1f1;\n",
       "        }    #T_b010022c_7e20_11e9_9a69_732d47d13bbdrow4_col5 {\n",
       "            background-color:  #7da0f9;\n",
       "            color:  #000000;\n",
       "        }    #T_b010022c_7e20_11e9_9a69_732d47d13bbdrow4_col6 {\n",
       "            background-color:  #80a3fa;\n",
       "            color:  #000000;\n",
       "        }    #T_b010022c_7e20_11e9_9a69_732d47d13bbdrow4_col7 {\n",
       "            background-color:  #86a9fc;\n",
       "            color:  #000000;\n",
       "        }    #T_b010022c_7e20_11e9_9a69_732d47d13bbdrow4_col8 {\n",
       "            background-color:  #d9dce1;\n",
       "            color:  #000000;\n",
       "        }    #T_b010022c_7e20_11e9_9a69_732d47d13bbdrow4_col9 {\n",
       "            background-color:  #7396f5;\n",
       "            color:  #000000;\n",
       "        }    #T_b010022c_7e20_11e9_9a69_732d47d13bbdrow4_col10 {\n",
       "            background-color:  #92b4fe;\n",
       "            color:  #000000;\n",
       "        }    #T_b010022c_7e20_11e9_9a69_732d47d13bbdrow5_col0 {\n",
       "            background-color:  #b5cdfa;\n",
       "            color:  #000000;\n",
       "        }    #T_b010022c_7e20_11e9_9a69_732d47d13bbdrow5_col1 {\n",
       "            background-color:  #7093f3;\n",
       "            color:  #000000;\n",
       "        }    #T_b010022c_7e20_11e9_9a69_732d47d13bbdrow5_col2 {\n",
       "            background-color:  #8db0fe;\n",
       "            color:  #000000;\n",
       "        }    #T_b010022c_7e20_11e9_9a69_732d47d13bbdrow5_col3 {\n",
       "            background-color:  #8badfd;\n",
       "            color:  #000000;\n",
       "        }    #T_b010022c_7e20_11e9_9a69_732d47d13bbdrow5_col4 {\n",
       "            background-color:  #7da0f9;\n",
       "            color:  #000000;\n",
       "        }    #T_b010022c_7e20_11e9_9a69_732d47d13bbdrow5_col5 {\n",
       "            background-color:  #b40426;\n",
       "            color:  #f1f1f1;\n",
       "        }    #T_b010022c_7e20_11e9_9a69_732d47d13bbdrow5_col6 {\n",
       "            background-color:  #3b4cc0;\n",
       "            color:  #f1f1f1;\n",
       "        }    #T_b010022c_7e20_11e9_9a69_732d47d13bbdrow5_col7 {\n",
       "            background-color:  #92b4fe;\n",
       "            color:  #000000;\n",
       "        }    #T_b010022c_7e20_11e9_9a69_732d47d13bbdrow5_col8 {\n",
       "            background-color:  #c7d7f0;\n",
       "            color:  #000000;\n",
       "        }    #T_b010022c_7e20_11e9_9a69_732d47d13bbdrow5_col9 {\n",
       "            background-color:  #90b2fe;\n",
       "            color:  #000000;\n",
       "        }    #T_b010022c_7e20_11e9_9a69_732d47d13bbdrow5_col10 {\n",
       "            background-color:  #bcd2f7;\n",
       "            color:  #000000;\n",
       "        }    #T_b010022c_7e20_11e9_9a69_732d47d13bbdrow6_col0 {\n",
       "            background-color:  #cfdaea;\n",
       "            color:  #000000;\n",
       "        }    #T_b010022c_7e20_11e9_9a69_732d47d13bbdrow6_col1 {\n",
       "            background-color:  #c1d4f4;\n",
       "            color:  #000000;\n",
       "        }    #T_b010022c_7e20_11e9_9a69_732d47d13bbdrow6_col2 {\n",
       "            background-color:  #7da0f9;\n",
       "            color:  #000000;\n",
       "        }    #T_b010022c_7e20_11e9_9a69_732d47d13bbdrow6_col3 {\n",
       "            background-color:  #89acfd;\n",
       "            color:  #000000;\n",
       "        }    #T_b010022c_7e20_11e9_9a69_732d47d13bbdrow6_col4 {\n",
       "            background-color:  #80a3fa;\n",
       "            color:  #000000;\n",
       "        }    #T_b010022c_7e20_11e9_9a69_732d47d13bbdrow6_col5 {\n",
       "            background-color:  #3b4cc0;\n",
       "            color:  #f1f1f1;\n",
       "        }    #T_b010022c_7e20_11e9_9a69_732d47d13bbdrow6_col6 {\n",
       "            background-color:  #b40426;\n",
       "            color:  #f1f1f1;\n",
       "        }    #T_b010022c_7e20_11e9_9a69_732d47d13bbdrow6_col7 {\n",
       "            background-color:  #b3cdfb;\n",
       "            color:  #000000;\n",
       "        }    #T_b010022c_7e20_11e9_9a69_732d47d13bbdrow6_col8 {\n",
       "            background-color:  #bbd1f8;\n",
       "            color:  #000000;\n",
       "        }    #T_b010022c_7e20_11e9_9a69_732d47d13bbdrow6_col9 {\n",
       "            background-color:  #97b8ff;\n",
       "            color:  #000000;\n",
       "        }    #T_b010022c_7e20_11e9_9a69_732d47d13bbdrow6_col10 {\n",
       "            background-color:  #b5cdfa;\n",
       "            color:  #000000;\n",
       "        }    #T_b010022c_7e20_11e9_9a69_732d47d13bbdrow7_col0 {\n",
       "            background-color:  #ed8366;\n",
       "            color:  #000000;\n",
       "        }    #T_b010022c_7e20_11e9_9a69_732d47d13bbdrow7_col1 {\n",
       "            background-color:  #9abbff;\n",
       "            color:  #000000;\n",
       "        }    #T_b010022c_7e20_11e9_9a69_732d47d13bbdrow7_col2 {\n",
       "            background-color:  #ec7f63;\n",
       "            color:  #000000;\n",
       "        }    #T_b010022c_7e20_11e9_9a69_732d47d13bbdrow7_col3 {\n",
       "            background-color:  #f1ccb8;\n",
       "            color:  #000000;\n",
       "        }    #T_b010022c_7e20_11e9_9a69_732d47d13bbdrow7_col4 {\n",
       "            background-color:  #779af7;\n",
       "            color:  #000000;\n",
       "        }    #T_b010022c_7e20_11e9_9a69_732d47d13bbdrow7_col5 {\n",
       "            background-color:  #84a7fc;\n",
       "            color:  #000000;\n",
       "        }    #T_b010022c_7e20_11e9_9a69_732d47d13bbdrow7_col6 {\n",
       "            background-color:  #a7c5fe;\n",
       "            color:  #000000;\n",
       "        }    #T_b010022c_7e20_11e9_9a69_732d47d13bbdrow7_col7 {\n",
       "            background-color:  #b40426;\n",
       "            color:  #f1f1f1;\n",
       "        }    #T_b010022c_7e20_11e9_9a69_732d47d13bbdrow7_col8 {\n",
       "            background-color:  #f0cdbb;\n",
       "            color:  #000000;\n",
       "        }    #T_b010022c_7e20_11e9_9a69_732d47d13bbdrow7_col9 {\n",
       "            background-color:  #6384eb;\n",
       "            color:  #000000;\n",
       "        }    #T_b010022c_7e20_11e9_9a69_732d47d13bbdrow7_col10 {\n",
       "            background-color:  #bfd3f6;\n",
       "            color:  #000000;\n",
       "        }    #T_b010022c_7e20_11e9_9a69_732d47d13bbdrow8_col0 {\n",
       "            background-color:  #f0cdbb;\n",
       "            color:  #000000;\n",
       "        }    #T_b010022c_7e20_11e9_9a69_732d47d13bbdrow8_col1 {\n",
       "            background-color:  #89acfd;\n",
       "            color:  #000000;\n",
       "        }    #T_b010022c_7e20_11e9_9a69_732d47d13bbdrow8_col2 {\n",
       "            background-color:  #d5dbe5;\n",
       "            color:  #000000;\n",
       "        }    #T_b010022c_7e20_11e9_9a69_732d47d13bbdrow8_col3 {\n",
       "            background-color:  #c7d7f0;\n",
       "            color:  #000000;\n",
       "        }    #T_b010022c_7e20_11e9_9a69_732d47d13bbdrow8_col4 {\n",
       "            background-color:  #aac7fd;\n",
       "            color:  #000000;\n",
       "        }    #T_b010022c_7e20_11e9_9a69_732d47d13bbdrow8_col5 {\n",
       "            background-color:  #8fb1fe;\n",
       "            color:  #000000;\n",
       "        }    #T_b010022c_7e20_11e9_9a69_732d47d13bbdrow8_col6 {\n",
       "            background-color:  #7b9ff9;\n",
       "            color:  #000000;\n",
       "        }    #T_b010022c_7e20_11e9_9a69_732d47d13bbdrow8_col7 {\n",
       "            background-color:  #dadce0;\n",
       "            color:  #000000;\n",
       "        }    #T_b010022c_7e20_11e9_9a69_732d47d13bbdrow8_col8 {\n",
       "            background-color:  #b40426;\n",
       "            color:  #f1f1f1;\n",
       "        }    #T_b010022c_7e20_11e9_9a69_732d47d13bbdrow8_col9 {\n",
       "            background-color:  #82a6fb;\n",
       "            color:  #000000;\n",
       "        }    #T_b010022c_7e20_11e9_9a69_732d47d13bbdrow8_col10 {\n",
       "            background-color:  #3b4cc0;\n",
       "            color:  #f1f1f1;\n",
       "        }    #T_b010022c_7e20_11e9_9a69_732d47d13bbdrow9_col0 {\n",
       "            background-color:  #3b4cc0;\n",
       "            color:  #f1f1f1;\n",
       "        }    #T_b010022c_7e20_11e9_9a69_732d47d13bbdrow9_col1 {\n",
       "            background-color:  #6f92f3;\n",
       "            color:  #000000;\n",
       "        }    #T_b010022c_7e20_11e9_9a69_732d47d13bbdrow9_col2 {\n",
       "            background-color:  #3b4cc0;\n",
       "            color:  #f1f1f1;\n",
       "        }    #T_b010022c_7e20_11e9_9a69_732d47d13bbdrow9_col3 {\n",
       "            background-color:  #3b4cc0;\n",
       "            color:  #f1f1f1;\n",
       "        }    #T_b010022c_7e20_11e9_9a69_732d47d13bbdrow9_col4 {\n",
       "            background-color:  #3b4cc0;\n",
       "            color:  #f1f1f1;\n",
       "        }    #T_b010022c_7e20_11e9_9a69_732d47d13bbdrow9_col5 {\n",
       "            background-color:  #5a78e4;\n",
       "            color:  #000000;\n",
       "        }    #T_b010022c_7e20_11e9_9a69_732d47d13bbdrow9_col6 {\n",
       "            background-color:  #6282ea;\n",
       "            color:  #000000;\n",
       "        }    #T_b010022c_7e20_11e9_9a69_732d47d13bbdrow9_col7 {\n",
       "            background-color:  #3b4cc0;\n",
       "            color:  #f1f1f1;\n",
       "        }    #T_b010022c_7e20_11e9_9a69_732d47d13bbdrow9_col8 {\n",
       "            background-color:  #94b6ff;\n",
       "            color:  #000000;\n",
       "        }    #T_b010022c_7e20_11e9_9a69_732d47d13bbdrow9_col9 {\n",
       "            background-color:  #b40426;\n",
       "            color:  #f1f1f1;\n",
       "        }    #T_b010022c_7e20_11e9_9a69_732d47d13bbdrow9_col10 {\n",
       "            background-color:  #bbd1f8;\n",
       "            color:  #000000;\n",
       "        }    #T_b010022c_7e20_11e9_9a69_732d47d13bbdrow10_col0 {\n",
       "            background-color:  #9bbcff;\n",
       "            color:  #000000;\n",
       "        }    #T_b010022c_7e20_11e9_9a69_732d47d13bbdrow10_col1 {\n",
       "            background-color:  #a2c1ff;\n",
       "            color:  #000000;\n",
       "        }    #T_b010022c_7e20_11e9_9a69_732d47d13bbdrow10_col2 {\n",
       "            background-color:  #92b4fe;\n",
       "            color:  #000000;\n",
       "        }    #T_b010022c_7e20_11e9_9a69_732d47d13bbdrow10_col3 {\n",
       "            background-color:  #93b5fe;\n",
       "            color:  #000000;\n",
       "        }    #T_b010022c_7e20_11e9_9a69_732d47d13bbdrow10_col4 {\n",
       "            background-color:  #465ecf;\n",
       "            color:  #f1f1f1;\n",
       "        }    #T_b010022c_7e20_11e9_9a69_732d47d13bbdrow10_col5 {\n",
       "            background-color:  #7ea1fa;\n",
       "            color:  #000000;\n",
       "        }    #T_b010022c_7e20_11e9_9a69_732d47d13bbdrow10_col6 {\n",
       "            background-color:  #7396f5;\n",
       "            color:  #000000;\n",
       "        }    #T_b010022c_7e20_11e9_9a69_732d47d13bbdrow10_col7 {\n",
       "            background-color:  #8fb1fe;\n",
       "            color:  #000000;\n",
       "        }    #T_b010022c_7e20_11e9_9a69_732d47d13bbdrow10_col8 {\n",
       "            background-color:  #3b4cc0;\n",
       "            color:  #f1f1f1;\n",
       "        }    #T_b010022c_7e20_11e9_9a69_732d47d13bbdrow10_col9 {\n",
       "            background-color:  #aec9fc;\n",
       "            color:  #000000;\n",
       "        }    #T_b010022c_7e20_11e9_9a69_732d47d13bbdrow10_col10 {\n",
       "            background-color:  #b40426;\n",
       "            color:  #f1f1f1;\n",
       "        }</style><table id=\"T_b010022c_7e20_11e9_9a69_732d47d13bbd\" ><thead>    <tr>        <th class=\"blank level0\" ></th>        <th class=\"col_heading level0 col0\" >salary</th>        <th class=\"col_heading level0 col1\" >exprior</th>        <th class=\"col_heading level0 col2\" >yearsworked</th>        <th class=\"col_heading level0 col3\" >yearsrank</th>        <th class=\"col_heading level0 col4\" >market</th>        <th class=\"col_heading level0 col5\" >degree</th>        <th class=\"col_heading level0 col6\" >otherqual</th>        <th class=\"col_heading level0 col7\" >position</th>        <th class=\"col_heading level0 col8\" >male</th>        <th class=\"col_heading level0 col9\" >Field</th>        <th class=\"col_heading level0 col10\" >yearsabs</th>    </tr></thead><tbody>\n",
       "                <tr>\n",
       "                        <th id=\"T_b010022c_7e20_11e9_9a69_732d47d13bbdlevel0_row0\" class=\"row_heading level0 row0\" >salary</th>\n",
       "                        <td id=\"T_b010022c_7e20_11e9_9a69_732d47d13bbdrow0_col0\" class=\"data row0 col0\" >1</td>\n",
       "                        <td id=\"T_b010022c_7e20_11e9_9a69_732d47d13bbdrow0_col1\" class=\"data row0 col1\" >0.124</td>\n",
       "                        <td id=\"T_b010022c_7e20_11e9_9a69_732d47d13bbdrow0_col2\" class=\"data row0 col2\" >0.643</td>\n",
       "                        <td id=\"T_b010022c_7e20_11e9_9a69_732d47d13bbdrow0_col3\" class=\"data row0 col3\" >0.625</td>\n",
       "                        <td id=\"T_b010022c_7e20_11e9_9a69_732d47d13bbdrow0_col4\" class=\"data row0 col4\" >0.419</td>\n",
       "                        <td id=\"T_b010022c_7e20_11e9_9a69_732d47d13bbdrow0_col5\" class=\"data row0 col5\" >0.0517</td>\n",
       "                        <td id=\"T_b010022c_7e20_11e9_9a69_732d47d13bbdrow0_col6\" class=\"data row0 col6\" >0.18</td>\n",
       "                        <td id=\"T_b010022c_7e20_11e9_9a69_732d47d13bbdrow0_col7\" class=\"data row0 col7\" >0.703</td>\n",
       "                        <td id=\"T_b010022c_7e20_11e9_9a69_732d47d13bbdrow0_col8\" class=\"data row0 col8\" >0.381</td>\n",
       "                        <td id=\"T_b010022c_7e20_11e9_9a69_732d47d13bbdrow0_col9\" class=\"data row0 col9\" >-0.495</td>\n",
       "                        <td id=\"T_b010022c_7e20_11e9_9a69_732d47d13bbdrow0_col10\" class=\"data row0 col10\" >-0.0626</td>\n",
       "            </tr>\n",
       "            <tr>\n",
       "                        <th id=\"T_b010022c_7e20_11e9_9a69_732d47d13bbdlevel0_row1\" class=\"row_heading level0 row1\" >exprior</th>\n",
       "                        <td id=\"T_b010022c_7e20_11e9_9a69_732d47d13bbdrow1_col0\" class=\"data row1 col0\" >0.124</td>\n",
       "                        <td id=\"T_b010022c_7e20_11e9_9a69_732d47d13bbdrow1_col1\" class=\"data row1 col1\" >1</td>\n",
       "                        <td id=\"T_b010022c_7e20_11e9_9a69_732d47d13bbdrow1_col2\" class=\"data row1 col2\" >-0.235</td>\n",
       "                        <td id=\"T_b010022c_7e20_11e9_9a69_732d47d13bbdrow1_col3\" class=\"data row1 col3\" >-0.0536</td>\n",
       "                        <td id=\"T_b010022c_7e20_11e9_9a69_732d47d13bbdrow1_col4\" class=\"data row1 col4\" >-0.0464</td>\n",
       "                        <td id=\"T_b010022c_7e20_11e9_9a69_732d47d13bbdrow1_col5\" class=\"data row1 col5\" >-0.0236</td>\n",
       "                        <td id=\"T_b010022c_7e20_11e9_9a69_732d47d13bbdrow1_col6\" class=\"data row1 col6\" >0.265</td>\n",
       "                        <td id=\"T_b010022c_7e20_11e9_9a69_732d47d13bbdrow1_col7\" class=\"data row1 col7\" >0.119</td>\n",
       "                        <td id=\"T_b010022c_7e20_11e9_9a69_732d47d13bbdrow1_col8\" class=\"data row1 col8\" >0.0621</td>\n",
       "                        <td id=\"T_b010022c_7e20_11e9_9a69_732d47d13bbdrow1_col9\" class=\"data row1 col9\" >-0.0308</td>\n",
       "                        <td id=\"T_b010022c_7e20_11e9_9a69_732d47d13bbdrow1_col10\" class=\"data row1 col10\" >0.147</td>\n",
       "            </tr>\n",
       "            <tr>\n",
       "                        <th id=\"T_b010022c_7e20_11e9_9a69_732d47d13bbdlevel0_row2\" class=\"row_heading level0 row2\" >yearsworked</th>\n",
       "                        <td id=\"T_b010022c_7e20_11e9_9a69_732d47d13bbdrow2_col0\" class=\"data row2 col0\" >0.643</td>\n",
       "                        <td id=\"T_b010022c_7e20_11e9_9a69_732d47d13bbdrow2_col1\" class=\"data row2 col1\" >-0.235</td>\n",
       "                        <td id=\"T_b010022c_7e20_11e9_9a69_732d47d13bbdrow2_col2\" class=\"data row2 col2\" >1</td>\n",
       "                        <td id=\"T_b010022c_7e20_11e9_9a69_732d47d13bbdrow2_col3\" class=\"data row2 col3\" >0.801</td>\n",
       "                        <td id=\"T_b010022c_7e20_11e9_9a69_732d47d13bbdrow2_col4\" class=\"data row2 col4\" >-0.0458</td>\n",
       "                        <td id=\"T_b010022c_7e20_11e9_9a69_732d47d13bbdrow2_col5\" class=\"data row2 col5\" >0.0276</td>\n",
       "                        <td id=\"T_b010022c_7e20_11e9_9a69_732d47d13bbdrow2_col6\" class=\"data row2 col6\" >-0.035</td>\n",
       "                        <td id=\"T_b010022c_7e20_11e9_9a69_732d47d13bbdrow2_col7\" class=\"data row2 col7\" >0.755</td>\n",
       "                        <td id=\"T_b010022c_7e20_11e9_9a69_732d47d13bbdrow2_col8\" class=\"data row2 col8\" >0.31</td>\n",
       "                        <td id=\"T_b010022c_7e20_11e9_9a69_732d47d13bbdrow2_col9\" class=\"data row2 col9\" >-0.3</td>\n",
       "                        <td id=\"T_b010022c_7e20_11e9_9a69_732d47d13bbdrow2_col10\" class=\"data row2 col10\" >0.0438</td>\n",
       "            </tr>\n",
       "            <tr>\n",
       "                        <th id=\"T_b010022c_7e20_11e9_9a69_732d47d13bbdlevel0_row3\" class=\"row_heading level0 row3\" >yearsrank</th>\n",
       "                        <td id=\"T_b010022c_7e20_11e9_9a69_732d47d13bbdrow3_col0\" class=\"data row3 col0\" >0.625</td>\n",
       "                        <td id=\"T_b010022c_7e20_11e9_9a69_732d47d13bbdrow3_col1\" class=\"data row3 col1\" >-0.0536</td>\n",
       "                        <td id=\"T_b010022c_7e20_11e9_9a69_732d47d13bbdrow3_col2\" class=\"data row3 col2\" >0.801</td>\n",
       "                        <td id=\"T_b010022c_7e20_11e9_9a69_732d47d13bbdrow3_col3\" class=\"data row3 col3\" >1</td>\n",
       "                        <td id=\"T_b010022c_7e20_11e9_9a69_732d47d13bbdrow3_col4\" class=\"data row3 col4\" >-0.0121</td>\n",
       "                        <td id=\"T_b010022c_7e20_11e9_9a69_732d47d13bbdrow3_col5\" class=\"data row3 col5\" >0.0214</td>\n",
       "                        <td id=\"T_b010022c_7e20_11e9_9a69_732d47d13bbdrow3_col6\" class=\"data row3 col6\" >0.0151</td>\n",
       "                        <td id=\"T_b010022c_7e20_11e9_9a69_732d47d13bbdrow3_col7\" class=\"data row3 col7\" >0.475</td>\n",
       "                        <td id=\"T_b010022c_7e20_11e9_9a69_732d47d13bbdrow3_col8\" class=\"data row3 col8\" >0.25</td>\n",
       "                        <td id=\"T_b010022c_7e20_11e9_9a69_732d47d13bbdrow3_col9\" class=\"data row3 col9\" >-0.298</td>\n",
       "                        <td id=\"T_b010022c_7e20_11e9_9a69_732d47d13bbdrow3_col10\" class=\"data row3 col10\" >0.0472</td>\n",
       "            </tr>\n",
       "            <tr>\n",
       "                        <th id=\"T_b010022c_7e20_11e9_9a69_732d47d13bbdlevel0_row4\" class=\"row_heading level0 row4\" >market</th>\n",
       "                        <td id=\"T_b010022c_7e20_11e9_9a69_732d47d13bbdrow4_col0\" class=\"data row4 col0\" >0.419</td>\n",
       "                        <td id=\"T_b010022c_7e20_11e9_9a69_732d47d13bbdrow4_col1\" class=\"data row4 col1\" >-0.0464</td>\n",
       "                        <td id=\"T_b010022c_7e20_11e9_9a69_732d47d13bbdrow4_col2\" class=\"data row4 col2\" >-0.0458</td>\n",
       "                        <td id=\"T_b010022c_7e20_11e9_9a69_732d47d13bbdrow4_col3\" class=\"data row4 col3\" >-0.0121</td>\n",
       "                        <td id=\"T_b010022c_7e20_11e9_9a69_732d47d13bbdrow4_col4\" class=\"data row4 col4\" >1</td>\n",
       "                        <td id=\"T_b010022c_7e20_11e9_9a69_732d47d13bbdrow4_col5\" class=\"data row4 col5\" >0.0214</td>\n",
       "                        <td id=\"T_b010022c_7e20_11e9_9a69_732d47d13bbdrow4_col6\" class=\"data row4 col6\" >0.0317</td>\n",
       "                        <td id=\"T_b010022c_7e20_11e9_9a69_732d47d13bbdrow4_col7\" class=\"data row4 col7\" >0.00394</td>\n",
       "                        <td id=\"T_b010022c_7e20_11e9_9a69_732d47d13bbdrow4_col8\" class=\"data row4 col8\" >0.18</td>\n",
       "                        <td id=\"T_b010022c_7e20_11e9_9a69_732d47d13bbdrow4_col9\" class=\"data row4 col9\" >-0.229</td>\n",
       "                        <td id=\"T_b010022c_7e20_11e9_9a69_732d47d13bbdrow4_col10\" class=\"data row4 col10\" >-0.179</td>\n",
       "            </tr>\n",
       "            <tr>\n",
       "                        <th id=\"T_b010022c_7e20_11e9_9a69_732d47d13bbdlevel0_row5\" class=\"row_heading level0 row5\" >degree</th>\n",
       "                        <td id=\"T_b010022c_7e20_11e9_9a69_732d47d13bbdrow5_col0\" class=\"data row5 col0\" >0.0517</td>\n",
       "                        <td id=\"T_b010022c_7e20_11e9_9a69_732d47d13bbdrow5_col1\" class=\"data row5 col1\" >-0.0236</td>\n",
       "                        <td id=\"T_b010022c_7e20_11e9_9a69_732d47d13bbdrow5_col2\" class=\"data row5 col2\" >0.0276</td>\n",
       "                        <td id=\"T_b010022c_7e20_11e9_9a69_732d47d13bbdrow5_col3\" class=\"data row5 col3\" >0.0214</td>\n",
       "                        <td id=\"T_b010022c_7e20_11e9_9a69_732d47d13bbdrow5_col4\" class=\"data row5 col4\" >0.0214</td>\n",
       "                        <td id=\"T_b010022c_7e20_11e9_9a69_732d47d13bbdrow5_col5\" class=\"data row5 col5\" >1</td>\n",
       "                        <td id=\"T_b010022c_7e20_11e9_9a69_732d47d13bbdrow5_col6\" class=\"data row5 col6\" >-0.231</td>\n",
       "                        <td id=\"T_b010022c_7e20_11e9_9a69_732d47d13bbdrow5_col7\" class=\"data row5 col7\" >0.0464</td>\n",
       "                        <td id=\"T_b010022c_7e20_11e9_9a69_732d47d13bbdrow5_col8\" class=\"data row5 col8\" >0.0824</td>\n",
       "                        <td id=\"T_b010022c_7e20_11e9_9a69_732d47d13bbdrow5_col9\" class=\"data row5 col9\" >-0.105</td>\n",
       "                        <td id=\"T_b010022c_7e20_11e9_9a69_732d47d13bbdrow5_col10\" class=\"data row5 col10\" >0.0242</td>\n",
       "            </tr>\n",
       "            <tr>\n",
       "                        <th id=\"T_b010022c_7e20_11e9_9a69_732d47d13bbdlevel0_row6\" class=\"row_heading level0 row6\" >otherqual</th>\n",
       "                        <td id=\"T_b010022c_7e20_11e9_9a69_732d47d13bbdrow6_col0\" class=\"data row6 col0\" >0.18</td>\n",
       "                        <td id=\"T_b010022c_7e20_11e9_9a69_732d47d13bbdrow6_col1\" class=\"data row6 col1\" >0.265</td>\n",
       "                        <td id=\"T_b010022c_7e20_11e9_9a69_732d47d13bbdrow6_col2\" class=\"data row6 col2\" >-0.035</td>\n",
       "                        <td id=\"T_b010022c_7e20_11e9_9a69_732d47d13bbdrow6_col3\" class=\"data row6 col3\" >0.0151</td>\n",
       "                        <td id=\"T_b010022c_7e20_11e9_9a69_732d47d13bbdrow6_col4\" class=\"data row6 col4\" >0.0317</td>\n",
       "                        <td id=\"T_b010022c_7e20_11e9_9a69_732d47d13bbdrow6_col5\" class=\"data row6 col5\" >-0.231</td>\n",
       "                        <td id=\"T_b010022c_7e20_11e9_9a69_732d47d13bbdrow6_col6\" class=\"data row6 col6\" >1</td>\n",
       "                        <td id=\"T_b010022c_7e20_11e9_9a69_732d47d13bbdrow6_col7\" class=\"data row6 col7\" >0.171</td>\n",
       "                        <td id=\"T_b010022c_7e20_11e9_9a69_732d47d13bbdrow6_col8\" class=\"data row6 col8\" >0.017</td>\n",
       "                        <td id=\"T_b010022c_7e20_11e9_9a69_732d47d13bbdrow6_col9\" class=\"data row6 col9\" >-0.0759</td>\n",
       "                        <td id=\"T_b010022c_7e20_11e9_9a69_732d47d13bbdrow6_col10\" class=\"data row6 col10\" >-0.0146</td>\n",
       "            </tr>\n",
       "            <tr>\n",
       "                        <th id=\"T_b010022c_7e20_11e9_9a69_732d47d13bbdlevel0_row7\" class=\"row_heading level0 row7\" >position</th>\n",
       "                        <td id=\"T_b010022c_7e20_11e9_9a69_732d47d13bbdrow7_col0\" class=\"data row7 col0\" >0.703</td>\n",
       "                        <td id=\"T_b010022c_7e20_11e9_9a69_732d47d13bbdrow7_col1\" class=\"data row7 col1\" >0.119</td>\n",
       "                        <td id=\"T_b010022c_7e20_11e9_9a69_732d47d13bbdrow7_col2\" class=\"data row7 col2\" >0.755</td>\n",
       "                        <td id=\"T_b010022c_7e20_11e9_9a69_732d47d13bbdrow7_col3\" class=\"data row7 col3\" >0.475</td>\n",
       "                        <td id=\"T_b010022c_7e20_11e9_9a69_732d47d13bbdrow7_col4\" class=\"data row7 col4\" >0.00394</td>\n",
       "                        <td id=\"T_b010022c_7e20_11e9_9a69_732d47d13bbdrow7_col5\" class=\"data row7 col5\" >0.0464</td>\n",
       "                        <td id=\"T_b010022c_7e20_11e9_9a69_732d47d13bbdrow7_col6\" class=\"data row7 col6\" >0.171</td>\n",
       "                        <td id=\"T_b010022c_7e20_11e9_9a69_732d47d13bbdrow7_col7\" class=\"data row7 col7\" >1</td>\n",
       "                        <td id=\"T_b010022c_7e20_11e9_9a69_732d47d13bbdrow7_col8\" class=\"data row7 col8\" >0.339</td>\n",
       "                        <td id=\"T_b010022c_7e20_11e9_9a69_732d47d13bbdrow7_col9\" class=\"data row7 col9\" >-0.297</td>\n",
       "                        <td id=\"T_b010022c_7e20_11e9_9a69_732d47d13bbdrow7_col10\" class=\"data row7 col10\" >0.0337</td>\n",
       "            </tr>\n",
       "            <tr>\n",
       "                        <th id=\"T_b010022c_7e20_11e9_9a69_732d47d13bbdlevel0_row8\" class=\"row_heading level0 row8\" >male</th>\n",
       "                        <td id=\"T_b010022c_7e20_11e9_9a69_732d47d13bbdrow8_col0\" class=\"data row8 col0\" >0.381</td>\n",
       "                        <td id=\"T_b010022c_7e20_11e9_9a69_732d47d13bbdrow8_col1\" class=\"data row8 col1\" >0.0621</td>\n",
       "                        <td id=\"T_b010022c_7e20_11e9_9a69_732d47d13bbdrow8_col2\" class=\"data row8 col2\" >0.31</td>\n",
       "                        <td id=\"T_b010022c_7e20_11e9_9a69_732d47d13bbdrow8_col3\" class=\"data row8 col3\" >0.25</td>\n",
       "                        <td id=\"T_b010022c_7e20_11e9_9a69_732d47d13bbdrow8_col4\" class=\"data row8 col4\" >0.18</td>\n",
       "                        <td id=\"T_b010022c_7e20_11e9_9a69_732d47d13bbdrow8_col5\" class=\"data row8 col5\" >0.0824</td>\n",
       "                        <td id=\"T_b010022c_7e20_11e9_9a69_732d47d13bbdrow8_col6\" class=\"data row8 col6\" >0.017</td>\n",
       "                        <td id=\"T_b010022c_7e20_11e9_9a69_732d47d13bbdrow8_col7\" class=\"data row8 col7\" >0.339</td>\n",
       "                        <td id=\"T_b010022c_7e20_11e9_9a69_732d47d13bbdrow8_col8\" class=\"data row8 col8\" >1</td>\n",
       "                        <td id=\"T_b010022c_7e20_11e9_9a69_732d47d13bbdrow8_col9\" class=\"data row8 col9\" >-0.163</td>\n",
       "                        <td id=\"T_b010022c_7e20_11e9_9a69_732d47d13bbdrow8_col10\" class=\"data row8 col10\" >-0.598</td>\n",
       "            </tr>\n",
       "            <tr>\n",
       "                        <th id=\"T_b010022c_7e20_11e9_9a69_732d47d13bbdlevel0_row9\" class=\"row_heading level0 row9\" >Field</th>\n",
       "                        <td id=\"T_b010022c_7e20_11e9_9a69_732d47d13bbdrow9_col0\" class=\"data row9 col0\" >-0.495</td>\n",
       "                        <td id=\"T_b010022c_7e20_11e9_9a69_732d47d13bbdrow9_col1\" class=\"data row9 col1\" >-0.0308</td>\n",
       "                        <td id=\"T_b010022c_7e20_11e9_9a69_732d47d13bbdrow9_col2\" class=\"data row9 col2\" >-0.3</td>\n",
       "                        <td id=\"T_b010022c_7e20_11e9_9a69_732d47d13bbdrow9_col3\" class=\"data row9 col3\" >-0.298</td>\n",
       "                        <td id=\"T_b010022c_7e20_11e9_9a69_732d47d13bbdrow9_col4\" class=\"data row9 col4\" >-0.229</td>\n",
       "                        <td id=\"T_b010022c_7e20_11e9_9a69_732d47d13bbdrow9_col5\" class=\"data row9 col5\" >-0.105</td>\n",
       "                        <td id=\"T_b010022c_7e20_11e9_9a69_732d47d13bbdrow9_col6\" class=\"data row9 col6\" >-0.0759</td>\n",
       "                        <td id=\"T_b010022c_7e20_11e9_9a69_732d47d13bbdrow9_col7\" class=\"data row9 col7\" >-0.297</td>\n",
       "                        <td id=\"T_b010022c_7e20_11e9_9a69_732d47d13bbdrow9_col8\" class=\"data row9 col8\" >-0.163</td>\n",
       "                        <td id=\"T_b010022c_7e20_11e9_9a69_732d47d13bbdrow9_col9\" class=\"data row9 col9\" >1</td>\n",
       "                        <td id=\"T_b010022c_7e20_11e9_9a69_732d47d13bbdrow9_col10\" class=\"data row9 col10\" >0.0191</td>\n",
       "            </tr>\n",
       "            <tr>\n",
       "                        <th id=\"T_b010022c_7e20_11e9_9a69_732d47d13bbdlevel0_row10\" class=\"row_heading level0 row10\" >yearsabs</th>\n",
       "                        <td id=\"T_b010022c_7e20_11e9_9a69_732d47d13bbdrow10_col0\" class=\"data row10 col0\" >-0.0626</td>\n",
       "                        <td id=\"T_b010022c_7e20_11e9_9a69_732d47d13bbdrow10_col1\" class=\"data row10 col1\" >0.147</td>\n",
       "                        <td id=\"T_b010022c_7e20_11e9_9a69_732d47d13bbdrow10_col2\" class=\"data row10 col2\" >0.0438</td>\n",
       "                        <td id=\"T_b010022c_7e20_11e9_9a69_732d47d13bbdrow10_col3\" class=\"data row10 col3\" >0.0472</td>\n",
       "                        <td id=\"T_b010022c_7e20_11e9_9a69_732d47d13bbdrow10_col4\" class=\"data row10 col4\" >-0.179</td>\n",
       "                        <td id=\"T_b010022c_7e20_11e9_9a69_732d47d13bbdrow10_col5\" class=\"data row10 col5\" >0.0242</td>\n",
       "                        <td id=\"T_b010022c_7e20_11e9_9a69_732d47d13bbdrow10_col6\" class=\"data row10 col6\" >-0.0146</td>\n",
       "                        <td id=\"T_b010022c_7e20_11e9_9a69_732d47d13bbdrow10_col7\" class=\"data row10 col7\" >0.0337</td>\n",
       "                        <td id=\"T_b010022c_7e20_11e9_9a69_732d47d13bbdrow10_col8\" class=\"data row10 col8\" >-0.598</td>\n",
       "                        <td id=\"T_b010022c_7e20_11e9_9a69_732d47d13bbdrow10_col9\" class=\"data row10 col9\" >0.0191</td>\n",
       "                        <td id=\"T_b010022c_7e20_11e9_9a69_732d47d13bbdrow10_col10\" class=\"data row10 col10\" >1</td>\n",
       "            </tr>\n",
       "    </tbody></table>"
      ],
      "text/plain": [
       "<pandas.io.formats.style.Styler at 0x7f6a92a8d518>"
      ]
     },
     "execution_count": 250,
     "metadata": {},
     "output_type": "execute_result"
    }
   ],
   "source": [
    "#create corr_Xtrain form the X-training data.\n",
    "corr_X_train = X_train.corr()\n",
    "#display the correlation of the X_train data.\n",
    "corr_X_train.style.background_gradient(cmap='coolwarm').set_precision(3)"
   ]
  },
  {
   "cell_type": "markdown",
   "metadata": {},
   "source": [
    "Multicollinearity is problem that you can run into when you’re fitting a regression model, or other linear model. It refers to predictors that are correlated with other predictors in the model. Unfortunately, the effects of multicollinearity can feel murky and intangible, which makes it unclear whether it’s important to fix. (https://blog.minitab.com/blog/adventures-in-statistics-2/what-are-the-effects-of-multicollinearity-and-when-can-i-ignore-them)"
   ]
  },
  {
   "cell_type": "markdown",
   "metadata": {},
   "source": [
    "* No there isnt any multiconlinearity in the model."
   ]
  },
  {
   "cell_type": "markdown",
   "metadata": {},
   "source": [
    "### 4. Run the multiple linear regression and interpret the standardised coefficients given in the statsmodels output. What are the most important features when predicting employee salary?"
   ]
  },
  {
   "cell_type": "markdown",
   "metadata": {},
   "source": [
    "* Run a Multiple Leanear model (mlm) with all varibles"
   ]
  },
  {
   "cell_type": "code",
   "execution_count": 259,
   "metadata": {},
   "outputs": [],
   "source": [
    "mlm = smf.ols(formula='salary ~ yearsworked + yearsrank + market + degree + otherqual +position + Field + male + yearsabs ', data=X_train).fit()"
   ]
  },
  {
   "cell_type": "code",
   "execution_count": 260,
   "metadata": {},
   "outputs": [
    {
     "data": {
      "text/plain": [
       "Intercept       2800.760165\n",
       "yearsworked     -236.533739\n",
       "yearsrank        888.212859\n",
       "market         31795.849039\n",
       "degree           344.457661\n",
       "otherqual       2830.658319\n",
       "position        8423.706863\n",
       "Field          -1779.371291\n",
       "male            1249.439604\n",
       "yearsabs           0.596803\n",
       "dtype: float64"
      ]
     },
     "execution_count": 260,
     "metadata": {},
     "output_type": "execute_result"
    }
   ],
   "source": [
    "# Display the coefficients derived from the mlm above using the .params method.\n",
    "mlm.params"
   ]
  },
  {
   "cell_type": "markdown",
   "metadata": {},
   "source": [
    "* The most important features when predicting employee salaries from the salary data are the position that the employee is in, the years that they have worked (experience) and whether they hold a degree on not."
   ]
  },
  {
   "cell_type": "markdown",
   "metadata": {},
   "source": [
    "### 5. Calculate the standardised residuals (resid()) and standardised predicted values (fittedvalues())."
   ]
  },
  {
   "cell_type": "markdown",
   "metadata": {},
   "source": [
    "* Below we use the .head(8) method on the .resid() function to display the first 8 standardised residuals values."
   ]
  },
  {
   "cell_type": "code",
   "execution_count": 253,
   "metadata": {},
   "outputs": [
    {
     "data": {
      "text/plain": [
       "321   -1779.726988\n",
       "330    8097.697633\n",
       "173    7065.327668\n",
       "273     848.827275\n",
       "493     789.164866\n",
       "dtype: float64"
      ]
     },
     "execution_count": 253,
     "metadata": {},
     "output_type": "execute_result"
    }
   ],
   "source": [
    "mlm.resid.head()"
   ]
  },
  {
   "cell_type": "markdown",
   "metadata": {},
   "source": [
    "* Below we use the .head(8) method on the .fittedvalues() function to display the first 8 standardised predicted values."
   ]
  },
  {
   "cell_type": "code",
   "execution_count": 262,
   "metadata": {},
   "outputs": [
    {
     "data": {
      "text/plain": [
       "321    57387.726988\n",
       "330    40229.302367\n",
       "173    54387.672332\n",
       "273    64583.172725\n",
       "493    43621.690604\n",
       "182    55534.883167\n",
       "269    58722.590808\n",
       "352    63715.798280\n",
       "dtype: float64"
      ]
     },
     "execution_count": 262,
     "metadata": {},
     "output_type": "execute_result"
    }
   ],
   "source": [
    "mlm.fittedvalues.head(8)"
   ]
  },
  {
   "cell_type": "markdown",
   "metadata": {},
   "source": [
    "### 6. Plot the residuals versus the predicted values using seaborn's residplot with fitted values as the x parameter, and the dependent variable as y. lowess=True."
   ]
  },
  {
   "cell_type": "code",
   "execution_count": 255,
   "metadata": {},
   "outputs": [
    {
     "data": {
      "text/plain": [
       "<matplotlib.axes._subplots.AxesSubplot at 0x7f6ab7072c88>"
      ]
     },
     "execution_count": 255,
     "metadata": {},
     "output_type": "execute_result"
    },
    {
     "data": {
      "image/png": "[encoded data removed]",
      "text/plain": [
       "<Figure size 432x288 with 1 Axes>"
      ]
     },
     "metadata": {},
     "output_type": "display_data"
    }
   ],
   "source": [
    "sns.residplot(mlm.fittedvalues, mlm.resid, lowess=True, color=\"teal\")"
   ]
  },
  {
   "cell_type": "markdown",
   "metadata": {},
   "source": [
    "## Now run your model on the test set."
   ]
  },
  {
   "cell_type": "markdown",
   "metadata": {},
   "source": [
    "* We use the mlm model to predict test data."
   ]
  },
  {
   "cell_type": "code",
   "execution_count": 256,
   "metadata": {},
   "outputs": [],
   "source": [
    "predictions = mlm.predict(X_test)"
   ]
  },
  {
   "cell_type": "markdown",
   "metadata": {},
   "source": [
    "*  Here we predict the first 5 predictions."
   ]
  },
  {
   "cell_type": "code",
   "execution_count": 269,
   "metadata": {},
   "outputs": [
    {
     "data": {
      "text/plain": [
       "305    49685.654465\n",
       "497    52456.233400\n",
       "440    40135.853235\n",
       "153    51451.638960\n",
       "499    38082.366064\n",
       "dtype: float64"
      ]
     },
     "execution_count": 269,
     "metadata": {},
     "output_type": "execute_result"
    }
   ],
   "source": [
    "predictions[0:5]"
   ]
  },
  {
   "cell_type": "markdown",
   "metadata": {},
   "source": [
    "*  The multiple linear model used on y_test data."
   ]
  },
  {
   "cell_type": "code",
   "execution_count": 271,
   "metadata": {},
   "outputs": [
    {
     "data": {
      "text/plain": [
       "Text(0, 0.5, 'True Values')"
      ]
     },
     "execution_count": 271,
     "metadata": {},
     "output_type": "execute_result"
    },
    {
     "data": {
      "image/png": "[encoded data removed]",
      "text/plain": [
       "<Figure size 432x288 with 1 Axes>"
      ]
     },
     "metadata": {},
     "output_type": "display_data"
    }
   ],
   "source": [
    "plt.scatter(predictions, y_test)\n",
    "plt.xlabel('Predictions')\n",
    "plt.ylabel('True Values')"
   ]
  },
  {
   "cell_type": "code",
   "execution_count": null,
   "metadata": {},
   "outputs": [],
   "source": []
  },
  {
   "cell_type": "markdown",
   "metadata": {},
   "source": [
    "### 7. How does your model compare when running it on the test set - what is the difference in the Root Mean Square Error (RMSE) between the training and test sets?"
   ]
  },
  {
   "cell_type": "code",
   "execution_count": 272,
   "metadata": {},
   "outputs": [
    {
     "data": {
      "text/plain": [
       "Intercept       2800.760165\n",
       "yearsworked     -236.533739\n",
       "yearsrank        888.212859\n",
       "market         31795.849039\n",
       "degree           344.457661\n",
       "otherqual       2830.658319\n",
       "position        8423.706863\n",
       "Field          -1779.371291\n",
       "male            1249.439604\n",
       "yearsabs           0.596803\n",
       "dtype: float64"
      ]
     },
     "execution_count": 272,
     "metadata": {},
     "output_type": "execute_result"
    }
   ],
   "source": [
    "mlm.params"
   ]
  },
  {
   "cell_type": "code",
   "execution_count": null,
   "metadata": {},
   "outputs": [],
   "source": []
  },
  {
   "cell_type": "code",
   "execution_count": 289,
   "metadata": {},
   "outputs": [
    {
     "ename": "ValueError",
     "evalue": "x and y must be the same size",
     "output_type": "error",
     "traceback": [
      "\u001b[0;31m---------------------------------------------------------------------------\u001b[0m",
      "\u001b[0;31mValueError\u001b[0m                                Traceback (most recent call last)",
      "\u001b[0;32m<ipython-input-289-6338dd90644f>\u001b[0m in \u001b[0;36m<module>\u001b[0;34m\u001b[0m\n\u001b[1;32m      1\u001b[0m \u001b[0mplt\u001b[0m\u001b[0;34m.\u001b[0m\u001b[0mplot\u001b[0m\u001b[0;34m(\u001b[0m\u001b[0mX_test\u001b[0m\u001b[0;34m,\u001b[0m\u001b[0mpredictions\u001b[0m\u001b[0;34m)\u001b[0m\u001b[0;34m\u001b[0m\u001b[0;34m\u001b[0m\u001b[0m\n\u001b[0;32m----> 2\u001b[0;31m \u001b[0mplt\u001b[0m\u001b[0;34m.\u001b[0m\u001b[0mscatter\u001b[0m\u001b[0;34m(\u001b[0m\u001b[0mX_test\u001b[0m\u001b[0;34m,\u001b[0m\u001b[0my_test\u001b[0m\u001b[0;34m,\u001b[0m\u001b[0mc\u001b[0m\u001b[0;34m=\u001b[0m\u001b[0;34m'red'\u001b[0m\u001b[0;34m)\u001b[0m\u001b[0;34m\u001b[0m\u001b[0;34m\u001b[0m\u001b[0m\n\u001b[0m\u001b[1;32m      3\u001b[0m \u001b[0mplt\u001b[0m\u001b[0;34m.\u001b[0m\u001b[0mxlabel\u001b[0m\u001b[0;34m(\u001b[0m\u001b[0;34m'headsize'\u001b[0m\u001b[0;34m)\u001b[0m\u001b[0;34m\u001b[0m\u001b[0;34m\u001b[0m\u001b[0m\n\u001b[1;32m      4\u001b[0m \u001b[0mplt\u001b[0m\u001b[0;34m.\u001b[0m\u001b[0mylabel\u001b[0m\u001b[0;34m(\u001b[0m\u001b[0;34m'brain weight'\u001b[0m\u001b[0;34m)\u001b[0m\u001b[0;34m\u001b[0m\u001b[0;34m\u001b[0m\u001b[0m\n",
      "\u001b[0;32m~/miniconda3/lib/python3.7/site-packages/matplotlib/pyplot.py\u001b[0m in \u001b[0;36mscatter\u001b[0;34m(x, y, s, c, marker, cmap, norm, vmin, vmax, alpha, linewidths, verts, edgecolors, data, **kwargs)\u001b[0m\n\u001b[1;32m   2860\u001b[0m         \u001b[0mvmin\u001b[0m\u001b[0;34m=\u001b[0m\u001b[0mvmin\u001b[0m\u001b[0;34m,\u001b[0m \u001b[0mvmax\u001b[0m\u001b[0;34m=\u001b[0m\u001b[0mvmax\u001b[0m\u001b[0;34m,\u001b[0m \u001b[0malpha\u001b[0m\u001b[0;34m=\u001b[0m\u001b[0malpha\u001b[0m\u001b[0;34m,\u001b[0m \u001b[0mlinewidths\u001b[0m\u001b[0;34m=\u001b[0m\u001b[0mlinewidths\u001b[0m\u001b[0;34m,\u001b[0m\u001b[0;34m\u001b[0m\u001b[0;34m\u001b[0m\u001b[0m\n\u001b[1;32m   2861\u001b[0m         verts=verts, edgecolors=edgecolors, **({\"data\": data} if data\n\u001b[0;32m-> 2862\u001b[0;31m         is not None else {}), **kwargs)\n\u001b[0m\u001b[1;32m   2863\u001b[0m     \u001b[0msci\u001b[0m\u001b[0;34m(\u001b[0m\u001b[0m__ret\u001b[0m\u001b[0;34m)\u001b[0m\u001b[0;34m\u001b[0m\u001b[0;34m\u001b[0m\u001b[0m\n\u001b[1;32m   2864\u001b[0m     \u001b[0;32mreturn\u001b[0m \u001b[0m__ret\u001b[0m\u001b[0;34m\u001b[0m\u001b[0;34m\u001b[0m\u001b[0m\n",
      "\u001b[0;32m~/miniconda3/lib/python3.7/site-packages/matplotlib/__init__.py\u001b[0m in \u001b[0;36minner\u001b[0;34m(ax, data, *args, **kwargs)\u001b[0m\n\u001b[1;32m   1808\u001b[0m                         \u001b[0;34m\"the Matplotlib list!)\"\u001b[0m \u001b[0;34m%\u001b[0m \u001b[0;34m(\u001b[0m\u001b[0mlabel_namer\u001b[0m\u001b[0;34m,\u001b[0m \u001b[0mfunc\u001b[0m\u001b[0;34m.\u001b[0m\u001b[0m__name__\u001b[0m\u001b[0;34m)\u001b[0m\u001b[0;34m,\u001b[0m\u001b[0;34m\u001b[0m\u001b[0;34m\u001b[0m\u001b[0m\n\u001b[1;32m   1809\u001b[0m                         RuntimeWarning, stacklevel=2)\n\u001b[0;32m-> 1810\u001b[0;31m             \u001b[0;32mreturn\u001b[0m \u001b[0mfunc\u001b[0m\u001b[0;34m(\u001b[0m\u001b[0max\u001b[0m\u001b[0;34m,\u001b[0m \u001b[0;34m*\u001b[0m\u001b[0margs\u001b[0m\u001b[0;34m,\u001b[0m \u001b[0;34m**\u001b[0m\u001b[0mkwargs\u001b[0m\u001b[0;34m)\u001b[0m\u001b[0;34m\u001b[0m\u001b[0;34m\u001b[0m\u001b[0m\n\u001b[0m\u001b[1;32m   1811\u001b[0m \u001b[0;34m\u001b[0m\u001b[0m\n\u001b[1;32m   1812\u001b[0m         inner.__doc__ = _add_data_doc(inner.__doc__,\n",
      "\u001b[0;32m~/miniconda3/lib/python3.7/site-packages/matplotlib/axes/_axes.py\u001b[0m in \u001b[0;36mscatter\u001b[0;34m(self, x, y, s, c, marker, cmap, norm, vmin, vmax, alpha, linewidths, verts, edgecolors, **kwargs)\u001b[0m\n\u001b[1;32m   4180\u001b[0m         \u001b[0my\u001b[0m \u001b[0;34m=\u001b[0m \u001b[0mnp\u001b[0m\u001b[0;34m.\u001b[0m\u001b[0mma\u001b[0m\u001b[0;34m.\u001b[0m\u001b[0mravel\u001b[0m\u001b[0;34m(\u001b[0m\u001b[0my\u001b[0m\u001b[0;34m)\u001b[0m\u001b[0;34m\u001b[0m\u001b[0;34m\u001b[0m\u001b[0m\n\u001b[1;32m   4181\u001b[0m         \u001b[0;32mif\u001b[0m \u001b[0mx\u001b[0m\u001b[0;34m.\u001b[0m\u001b[0msize\u001b[0m \u001b[0;34m!=\u001b[0m \u001b[0my\u001b[0m\u001b[0;34m.\u001b[0m\u001b[0msize\u001b[0m\u001b[0;34m:\u001b[0m\u001b[0;34m\u001b[0m\u001b[0;34m\u001b[0m\u001b[0m\n\u001b[0;32m-> 4182\u001b[0;31m             \u001b[0;32mraise\u001b[0m \u001b[0mValueError\u001b[0m\u001b[0;34m(\u001b[0m\u001b[0;34m\"x and y must be the same size\"\u001b[0m\u001b[0;34m)\u001b[0m\u001b[0;34m\u001b[0m\u001b[0;34m\u001b[0m\u001b[0m\n\u001b[0m\u001b[1;32m   4183\u001b[0m \u001b[0;34m\u001b[0m\u001b[0m\n\u001b[1;32m   4184\u001b[0m         \u001b[0;32mif\u001b[0m \u001b[0ms\u001b[0m \u001b[0;32mis\u001b[0m \u001b[0;32mNone\u001b[0m\u001b[0;34m:\u001b[0m\u001b[0;34m\u001b[0m\u001b[0;34m\u001b[0m\u001b[0m\n",
      "\u001b[0;31mValueError\u001b[0m: x and y must be the same size"
     ]
    },
    {
     "data": {
      "image/png": "[encoded data removed]",
      "text/plain": [
       "<Figure size 432x288 with 1 Axes>"
      ]
     },
     "metadata": {},
     "output_type": "display_data"
    }
   ],
   "source": [
    "plt.plot(X_test,predictions)   \n",
    "plt.scatter(X_test,y_test,c='red')\n",
    "plt.xlabel('headsize')\n",
    "plt.ylabel('brain weight')"
   ]
  },
  {
   "cell_type": "code",
   "execution_count": null,
   "metadata": {},
   "outputs": [],
   "source": []
  },
  {
   "cell_type": "code",
   "execution_count": 273,
   "metadata": {},
   "outputs": [
    {
     "ename": "AttributeError",
     "evalue": "'OLSResults' object has no attribute 'coef_'",
     "output_type": "error",
     "traceback": [
      "\u001b[0;31m---------------------------------------------------------------------------\u001b[0m",
      "\u001b[0;31mAttributeError\u001b[0m                            Traceback (most recent call last)",
      "\u001b[0;32m<ipython-input-273-443a9b65bbfb>\u001b[0m in \u001b[0;36m<module>\u001b[0;34m\u001b[0m\n\u001b[1;32m      1\u001b[0m \u001b[0;31m# The coefficients\u001b[0m\u001b[0;34m\u001b[0m\u001b[0;34m\u001b[0m\u001b[0;34m\u001b[0m\u001b[0m\n\u001b[0;32m----> 2\u001b[0;31m \u001b[0mprint\u001b[0m\u001b[0;34m(\u001b[0m\u001b[0;34m'Coefficients: \\n'\u001b[0m\u001b[0;34m,\u001b[0m \u001b[0mmlm\u001b[0m\u001b[0;34m.\u001b[0m\u001b[0mcoef_\u001b[0m\u001b[0;34m)\u001b[0m\u001b[0;34m\u001b[0m\u001b[0;34m\u001b[0m\u001b[0m\n\u001b[0m",
      "\u001b[0;32m~/miniconda3/lib/python3.7/site-packages/statsmodels/base/wrapper.py\u001b[0m in \u001b[0;36m__getattribute__\u001b[0;34m(self, attr)\u001b[0m\n\u001b[1;32m     33\u001b[0m             \u001b[0;32mpass\u001b[0m\u001b[0;34m\u001b[0m\u001b[0;34m\u001b[0m\u001b[0m\n\u001b[1;32m     34\u001b[0m \u001b[0;34m\u001b[0m\u001b[0m\n\u001b[0;32m---> 35\u001b[0;31m         \u001b[0mobj\u001b[0m \u001b[0;34m=\u001b[0m \u001b[0mgetattr\u001b[0m\u001b[0;34m(\u001b[0m\u001b[0mresults\u001b[0m\u001b[0;34m,\u001b[0m \u001b[0mattr\u001b[0m\u001b[0;34m)\u001b[0m\u001b[0;34m\u001b[0m\u001b[0;34m\u001b[0m\u001b[0m\n\u001b[0m\u001b[1;32m     36\u001b[0m         \u001b[0mdata\u001b[0m \u001b[0;34m=\u001b[0m \u001b[0mresults\u001b[0m\u001b[0;34m.\u001b[0m\u001b[0mmodel\u001b[0m\u001b[0;34m.\u001b[0m\u001b[0mdata\u001b[0m\u001b[0;34m\u001b[0m\u001b[0;34m\u001b[0m\u001b[0m\n\u001b[1;32m     37\u001b[0m         \u001b[0mhow\u001b[0m \u001b[0;34m=\u001b[0m \u001b[0mself\u001b[0m\u001b[0;34m.\u001b[0m\u001b[0m_wrap_attrs\u001b[0m\u001b[0;34m.\u001b[0m\u001b[0mget\u001b[0m\u001b[0;34m(\u001b[0m\u001b[0mattr\u001b[0m\u001b[0;34m)\u001b[0m\u001b[0;34m\u001b[0m\u001b[0;34m\u001b[0m\u001b[0m\n",
      "\u001b[0;31mAttributeError\u001b[0m: 'OLSResults' object has no attribute 'coef_'"
     ]
    }
   ],
   "source": [
    "# The coefficients\n",
    "print('Coefficients: \\n', mlm.coef_)"
   ]
  },
  {
   "cell_type": "code",
   "execution_count": 274,
   "metadata": {},
   "outputs": [
    {
     "name": "stdout",
     "output_type": "stream",
     "text": [
      "Mean squared error: 34706591.71\n"
     ]
    }
   ],
   "source": [
    "# The mean squared error\n",
    "print(\"Mean squared error: %.2f\"\n",
    "      % np.mean((mlm.predict(X_test) - y_test) ** 2))"
   ]
  },
  {
   "cell_type": "markdown",
   "metadata": {},
   "source": []
  },
  {
   "cell_type": "code",
   "execution_count": 292,
   "metadata": {},
   "outputs": [
    {
     "ename": "AttributeError",
     "evalue": "'OLSResults' object has no attribute 'score'",
     "output_type": "error",
     "traceback": [
      "\u001b[0;31m---------------------------------------------------------------------------\u001b[0m",
      "\u001b[0;31mAttributeError\u001b[0m                            Traceback (most recent call last)",
      "\u001b[0;32m<ipython-input-292-026c706d002b>\u001b[0m in \u001b[0;36m<module>\u001b[0;34m\u001b[0m\n\u001b[1;32m      1\u001b[0m \u001b[0;31m# Explained variance score: 1 is perfect prediction\u001b[0m\u001b[0;34m\u001b[0m\u001b[0;34m\u001b[0m\u001b[0;34m\u001b[0m\u001b[0m\n\u001b[0;32m----> 2\u001b[0;31m \u001b[0mprint\u001b[0m\u001b[0;34m(\u001b[0m\u001b[0;34m'Variance score: %.2f'\u001b[0m \u001b[0;34m%\u001b[0m \u001b[0mmlm\u001b[0m\u001b[0;34m.\u001b[0m\u001b[0mscore\u001b[0m\u001b[0;34m(\u001b[0m\u001b[0mX_test\u001b[0m\u001b[0;34m,\u001b[0m \u001b[0my_test\u001b[0m\u001b[0;34m)\u001b[0m\u001b[0;34m)\u001b[0m\u001b[0;34m\u001b[0m\u001b[0;34m\u001b[0m\u001b[0m\n\u001b[0m",
      "\u001b[0;32m~/miniconda3/lib/python3.7/site-packages/statsmodels/base/wrapper.py\u001b[0m in \u001b[0;36m__getattribute__\u001b[0;34m(self, attr)\u001b[0m\n\u001b[1;32m     33\u001b[0m             \u001b[0;32mpass\u001b[0m\u001b[0;34m\u001b[0m\u001b[0;34m\u001b[0m\u001b[0m\n\u001b[1;32m     34\u001b[0m \u001b[0;34m\u001b[0m\u001b[0m\n\u001b[0;32m---> 35\u001b[0;31m         \u001b[0mobj\u001b[0m \u001b[0;34m=\u001b[0m \u001b[0mgetattr\u001b[0m\u001b[0;34m(\u001b[0m\u001b[0mresults\u001b[0m\u001b[0;34m,\u001b[0m \u001b[0mattr\u001b[0m\u001b[0;34m)\u001b[0m\u001b[0;34m\u001b[0m\u001b[0;34m\u001b[0m\u001b[0m\n\u001b[0m\u001b[1;32m     36\u001b[0m         \u001b[0mdata\u001b[0m \u001b[0;34m=\u001b[0m \u001b[0mresults\u001b[0m\u001b[0;34m.\u001b[0m\u001b[0mmodel\u001b[0m\u001b[0;34m.\u001b[0m\u001b[0mdata\u001b[0m\u001b[0;34m\u001b[0m\u001b[0;34m\u001b[0m\u001b[0m\n\u001b[1;32m     37\u001b[0m         \u001b[0mhow\u001b[0m \u001b[0;34m=\u001b[0m \u001b[0mself\u001b[0m\u001b[0;34m.\u001b[0m\u001b[0m_wrap_attrs\u001b[0m\u001b[0;34m.\u001b[0m\u001b[0mget\u001b[0m\u001b[0;34m(\u001b[0m\u001b[0mattr\u001b[0m\u001b[0;34m)\u001b[0m\u001b[0;34m\u001b[0m\u001b[0;34m\u001b[0m\u001b[0m\n",
      "\u001b[0;31mAttributeError\u001b[0m: 'OLSResults' object has no attribute 'score'"
     ]
    }
   ],
   "source": [
    "# Explained variance score: 1 is perfect prediction\n",
    "print('Variance score: %.2f' % mlm.score(X_test, y_test))"
   ]
  },
  {
   "cell_type": "code",
   "execution_count": null,
   "metadata": {},
   "outputs": [],
   "source": []
  },
  {
   "cell_type": "code",
   "execution_count": null,
   "metadata": {},
   "outputs": [],
   "source": []
  },
  {
   "cell_type": "code",
   "execution_count": 279,
   "metadata": {},
   "outputs": [
    {
     "ename": "AttributeError",
     "evalue": "'OLSResults' object has no attribute 'score'",
     "output_type": "error",
     "traceback": [
      "\u001b[0;31m---------------------------------------------------------------------------\u001b[0m",
      "\u001b[0;31mAttributeError\u001b[0m                            Traceback (most recent call last)",
      "\u001b[0;32m<ipython-input-279-b4a63c8aa6b8>\u001b[0m in \u001b[0;36m<module>\u001b[0;34m\u001b[0m\n\u001b[0;32m----> 1\u001b[0;31m \u001b[0mprint\u001b[0m\u001b[0;34m(\u001b[0m\u001b[0;34m\"Score:\"\u001b[0m\u001b[0;34m,\u001b[0m\u001b[0mmlm\u001b[0m\u001b[0;34m.\u001b[0m\u001b[0mscore\u001b[0m\u001b[0;34m(\u001b[0m\u001b[0mX_test\u001b[0m\u001b[0;34m,\u001b[0m \u001b[0my_test\u001b[0m\u001b[0;34m)\u001b[0m\u001b[0;34m)\u001b[0m\u001b[0;34m\u001b[0m\u001b[0;34m\u001b[0m\u001b[0m\n\u001b[0m",
      "\u001b[0;32m~/miniconda3/lib/python3.7/site-packages/statsmodels/base/wrapper.py\u001b[0m in \u001b[0;36m__getattribute__\u001b[0;34m(self, attr)\u001b[0m\n\u001b[1;32m     33\u001b[0m             \u001b[0;32mpass\u001b[0m\u001b[0;34m\u001b[0m\u001b[0;34m\u001b[0m\u001b[0m\n\u001b[1;32m     34\u001b[0m \u001b[0;34m\u001b[0m\u001b[0m\n\u001b[0;32m---> 35\u001b[0;31m         \u001b[0mobj\u001b[0m \u001b[0;34m=\u001b[0m \u001b[0mgetattr\u001b[0m\u001b[0;34m(\u001b[0m\u001b[0mresults\u001b[0m\u001b[0;34m,\u001b[0m \u001b[0mattr\u001b[0m\u001b[0;34m)\u001b[0m\u001b[0;34m\u001b[0m\u001b[0;34m\u001b[0m\u001b[0m\n\u001b[0m\u001b[1;32m     36\u001b[0m         \u001b[0mdata\u001b[0m \u001b[0;34m=\u001b[0m \u001b[0mresults\u001b[0m\u001b[0;34m.\u001b[0m\u001b[0mmodel\u001b[0m\u001b[0;34m.\u001b[0m\u001b[0mdata\u001b[0m\u001b[0;34m\u001b[0m\u001b[0;34m\u001b[0m\u001b[0m\n\u001b[1;32m     37\u001b[0m         \u001b[0mhow\u001b[0m \u001b[0;34m=\u001b[0m \u001b[0mself\u001b[0m\u001b[0;34m.\u001b[0m\u001b[0m_wrap_attrs\u001b[0m\u001b[0;34m.\u001b[0m\u001b[0mget\u001b[0m\u001b[0;34m(\u001b[0m\u001b[0mattr\u001b[0m\u001b[0;34m)\u001b[0m\u001b[0;34m\u001b[0m\u001b[0;34m\u001b[0m\u001b[0m\n",
      "\u001b[0;31mAttributeError\u001b[0m: 'OLSResults' object has no attribute 'score'"
     ]
    }
   ],
   "source": [
    "print(\"Score:\",mlm.score(X_test, y_test))"
   ]
  },
  {
   "cell_type": "code",
   "execution_count": null,
   "metadata": {},
   "outputs": [],
   "source": []
  },
  {
   "cell_type": "code",
   "execution_count": null,
   "metadata": {},
   "outputs": [],
   "source": []
  },
  {
   "cell_type": "code",
   "execution_count": null,
   "metadata": {},
   "outputs": [],
   "source": []
  },
  {
   "cell_type": "code",
   "execution_count": null,
   "metadata": {},
   "outputs": [],
   "source": []
  }
 ],
 "metadata": {
  "kernelspec": {
   "display_name": "Python 3",
   "language": "python",
   "name": "python3"
  },
  "language_info": {
   "codemirror_mode": {
    "name": "ipython",
    "version": 3
   },
   "file_extension": ".py",
   "mimetype": "text/x-python",
   "name": "python",
   "nbconvert_exporter": "python",
   "pygments_lexer": "ipython3",
   "version": "3.7.3"
  }
 },
 "nbformat": 4,
 "nbformat_minor": 2
}
